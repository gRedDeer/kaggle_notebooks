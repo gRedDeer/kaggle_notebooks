{
  "metadata": {
    "kernelspec": {
      "language": "python",
      "display_name": "Python 3",
      "name": "python3"
    },
    "language_info": {
      "name": "python",
      "version": "3.10.14",
      "mimetype": "text/x-python",
      "codemirror_mode": {
        "name": "ipython",
        "version": 3
      },
      "pygments_lexer": "ipython3",
      "nbconvert_exporter": "python",
      "file_extension": ".py"
    },
    "kaggle": {
      "accelerator": "gpu",
      "dataSources": [
        {
          "sourceId": 84894,
          "databundleVersionId": 9709193,
          "sourceType": "competition"
        },
        {
          "sourceId": 9519882,
          "sourceType": "datasetVersion",
          "datasetId": 5796052
        }
      ],
      "dockerImageVersionId": 30776,
      "isInternetEnabled": true,
      "language": "python",
      "sourceType": "notebook",
      "isGpuEnabled": true
    },
    "colab": {
      "name": "Loan Approval | Exploration",
      "provenance": [],
      "include_colab_link": true
    },
    "widgets": {
      "application/vnd.jupyter.widget-state+json": {
        "e6ecad4bce0544ceb01188a1acd3e5de": {
          "model_module": "@jupyter-widgets/controls",
          "model_name": "VBoxModel",
          "model_module_version": "1.5.0",
          "state": {
            "_dom_classes": [],
            "_model_module": "@jupyter-widgets/controls",
            "_model_module_version": "1.5.0",
            "_model_name": "VBoxModel",
            "_view_count": null,
            "_view_module": "@jupyter-widgets/controls",
            "_view_module_version": "1.5.0",
            "_view_name": "VBoxView",
            "box_style": "",
            "children": [
              "IPY_MODEL_222a14992ab6471d8a748c53919f8138"
            ],
            "layout": "IPY_MODEL_abe45015e6a14c64ba577f0085f7f836"
          }
        },
        "684613d7f72841ee8a0087a06ffd6c53": {
          "model_module": "@jupyter-widgets/controls",
          "model_name": "HTMLModel",
          "model_module_version": "1.5.0",
          "state": {
            "_dom_classes": [],
            "_model_module": "@jupyter-widgets/controls",
            "_model_module_version": "1.5.0",
            "_model_name": "HTMLModel",
            "_view_count": null,
            "_view_module": "@jupyter-widgets/controls",
            "_view_module_version": "1.5.0",
            "_view_name": "HTMLView",
            "description": "",
            "description_tooltip": null,
            "layout": "IPY_MODEL_290849eeaed4421880f3e7c952aa1ab0",
            "placeholder": "​",
            "style": "IPY_MODEL_57c9bea55b5041ffb1ce2024fb439ed5",
            "value": "<center> <img\nsrc=https://www.kaggle.com/static/images/site-logo.png\nalt='Kaggle'> <br> Create an API token from <a\nhref=\"https://www.kaggle.com/settings/account\" target=\"_blank\">your Kaggle\nsettings page</a> and paste it below along with your Kaggle username. <br> </center>"
          }
        },
        "c9df918c187b446d8a23fa9b4c23d5fb": {
          "model_module": "@jupyter-widgets/controls",
          "model_name": "TextModel",
          "model_module_version": "1.5.0",
          "state": {
            "_dom_classes": [],
            "_model_module": "@jupyter-widgets/controls",
            "_model_module_version": "1.5.0",
            "_model_name": "TextModel",
            "_view_count": null,
            "_view_module": "@jupyter-widgets/controls",
            "_view_module_version": "1.5.0",
            "_view_name": "TextView",
            "continuous_update": true,
            "description": "Username:",
            "description_tooltip": null,
            "disabled": false,
            "layout": "IPY_MODEL_1a3816c9e5ff4c33a4a43ab18fa68099",
            "placeholder": "​",
            "style": "IPY_MODEL_e01fc0e36b44465f90ceafddca29eefd",
            "value": "rvdrdx"
          }
        },
        "5bc6e4108734448c8f2886b7eea784a8": {
          "model_module": "@jupyter-widgets/controls",
          "model_name": "PasswordModel",
          "model_module_version": "1.5.0",
          "state": {
            "_dom_classes": [],
            "_model_module": "@jupyter-widgets/controls",
            "_model_module_version": "1.5.0",
            "_model_name": "PasswordModel",
            "_view_count": null,
            "_view_module": "@jupyter-widgets/controls",
            "_view_module_version": "1.5.0",
            "_view_name": "PasswordView",
            "continuous_update": true,
            "description": "Token:",
            "description_tooltip": null,
            "disabled": false,
            "layout": "IPY_MODEL_92241e44c03d42f2a59f60027c6026a0",
            "placeholder": "​",
            "style": "IPY_MODEL_22727d170f36490a97cf7e72617f2090",
            "value": ""
          }
        },
        "64c06574dfae47c9a1dc1305b9408034": {
          "model_module": "@jupyter-widgets/controls",
          "model_name": "ButtonModel",
          "model_module_version": "1.5.0",
          "state": {
            "_dom_classes": [],
            "_model_module": "@jupyter-widgets/controls",
            "_model_module_version": "1.5.0",
            "_model_name": "ButtonModel",
            "_view_count": null,
            "_view_module": "@jupyter-widgets/controls",
            "_view_module_version": "1.5.0",
            "_view_name": "ButtonView",
            "button_style": "",
            "description": "Login",
            "disabled": false,
            "icon": "",
            "layout": "IPY_MODEL_7d57cc6aaf4945be8281f07bde6fbb9b",
            "style": "IPY_MODEL_bc856988221f42b5ae9115d8ebfb5681",
            "tooltip": ""
          }
        },
        "80c446cbfdfc4c53930432afd21ebe7f": {
          "model_module": "@jupyter-widgets/controls",
          "model_name": "HTMLModel",
          "model_module_version": "1.5.0",
          "state": {
            "_dom_classes": [],
            "_model_module": "@jupyter-widgets/controls",
            "_model_module_version": "1.5.0",
            "_model_name": "HTMLModel",
            "_view_count": null,
            "_view_module": "@jupyter-widgets/controls",
            "_view_module_version": "1.5.0",
            "_view_name": "HTMLView",
            "description": "",
            "description_tooltip": null,
            "layout": "IPY_MODEL_6e7b442462c84acd9831e8f48f46a7d3",
            "placeholder": "​",
            "style": "IPY_MODEL_96f779f8556f41c18f94373c125d20b7",
            "value": "\n<b>Thank You</b></center>"
          }
        },
        "abe45015e6a14c64ba577f0085f7f836": {
          "model_module": "@jupyter-widgets/base",
          "model_name": "LayoutModel",
          "model_module_version": "1.2.0",
          "state": {
            "_model_module": "@jupyter-widgets/base",
            "_model_module_version": "1.2.0",
            "_model_name": "LayoutModel",
            "_view_count": null,
            "_view_module": "@jupyter-widgets/base",
            "_view_module_version": "1.2.0",
            "_view_name": "LayoutView",
            "align_content": null,
            "align_items": "center",
            "align_self": null,
            "border": null,
            "bottom": null,
            "display": "flex",
            "flex": null,
            "flex_flow": "column",
            "grid_area": null,
            "grid_auto_columns": null,
            "grid_auto_flow": null,
            "grid_auto_rows": null,
            "grid_column": null,
            "grid_gap": null,
            "grid_row": null,
            "grid_template_areas": null,
            "grid_template_columns": null,
            "grid_template_rows": null,
            "height": null,
            "justify_content": null,
            "justify_items": null,
            "left": null,
            "margin": null,
            "max_height": null,
            "max_width": null,
            "min_height": null,
            "min_width": null,
            "object_fit": null,
            "object_position": null,
            "order": null,
            "overflow": null,
            "overflow_x": null,
            "overflow_y": null,
            "padding": null,
            "right": null,
            "top": null,
            "visibility": null,
            "width": "50%"
          }
        },
        "290849eeaed4421880f3e7c952aa1ab0": {
          "model_module": "@jupyter-widgets/base",
          "model_name": "LayoutModel",
          "model_module_version": "1.2.0",
          "state": {
            "_model_module": "@jupyter-widgets/base",
            "_model_module_version": "1.2.0",
            "_model_name": "LayoutModel",
            "_view_count": null,
            "_view_module": "@jupyter-widgets/base",
            "_view_module_version": "1.2.0",
            "_view_name": "LayoutView",
            "align_content": null,
            "align_items": null,
            "align_self": null,
            "border": null,
            "bottom": null,
            "display": null,
            "flex": null,
            "flex_flow": null,
            "grid_area": null,
            "grid_auto_columns": null,
            "grid_auto_flow": null,
            "grid_auto_rows": null,
            "grid_column": null,
            "grid_gap": null,
            "grid_row": null,
            "grid_template_areas": null,
            "grid_template_columns": null,
            "grid_template_rows": null,
            "height": null,
            "justify_content": null,
            "justify_items": null,
            "left": null,
            "margin": null,
            "max_height": null,
            "max_width": null,
            "min_height": null,
            "min_width": null,
            "object_fit": null,
            "object_position": null,
            "order": null,
            "overflow": null,
            "overflow_x": null,
            "overflow_y": null,
            "padding": null,
            "right": null,
            "top": null,
            "visibility": null,
            "width": null
          }
        },
        "57c9bea55b5041ffb1ce2024fb439ed5": {
          "model_module": "@jupyter-widgets/controls",
          "model_name": "DescriptionStyleModel",
          "model_module_version": "1.5.0",
          "state": {
            "_model_module": "@jupyter-widgets/controls",
            "_model_module_version": "1.5.0",
            "_model_name": "DescriptionStyleModel",
            "_view_count": null,
            "_view_module": "@jupyter-widgets/base",
            "_view_module_version": "1.2.0",
            "_view_name": "StyleView",
            "description_width": ""
          }
        },
        "1a3816c9e5ff4c33a4a43ab18fa68099": {
          "model_module": "@jupyter-widgets/base",
          "model_name": "LayoutModel",
          "model_module_version": "1.2.0",
          "state": {
            "_model_module": "@jupyter-widgets/base",
            "_model_module_version": "1.2.0",
            "_model_name": "LayoutModel",
            "_view_count": null,
            "_view_module": "@jupyter-widgets/base",
            "_view_module_version": "1.2.0",
            "_view_name": "LayoutView",
            "align_content": null,
            "align_items": null,
            "align_self": null,
            "border": null,
            "bottom": null,
            "display": null,
            "flex": null,
            "flex_flow": null,
            "grid_area": null,
            "grid_auto_columns": null,
            "grid_auto_flow": null,
            "grid_auto_rows": null,
            "grid_column": null,
            "grid_gap": null,
            "grid_row": null,
            "grid_template_areas": null,
            "grid_template_columns": null,
            "grid_template_rows": null,
            "height": null,
            "justify_content": null,
            "justify_items": null,
            "left": null,
            "margin": null,
            "max_height": null,
            "max_width": null,
            "min_height": null,
            "min_width": null,
            "object_fit": null,
            "object_position": null,
            "order": null,
            "overflow": null,
            "overflow_x": null,
            "overflow_y": null,
            "padding": null,
            "right": null,
            "top": null,
            "visibility": null,
            "width": null
          }
        },
        "e01fc0e36b44465f90ceafddca29eefd": {
          "model_module": "@jupyter-widgets/controls",
          "model_name": "DescriptionStyleModel",
          "model_module_version": "1.5.0",
          "state": {
            "_model_module": "@jupyter-widgets/controls",
            "_model_module_version": "1.5.0",
            "_model_name": "DescriptionStyleModel",
            "_view_count": null,
            "_view_module": "@jupyter-widgets/base",
            "_view_module_version": "1.2.0",
            "_view_name": "StyleView",
            "description_width": ""
          }
        },
        "92241e44c03d42f2a59f60027c6026a0": {
          "model_module": "@jupyter-widgets/base",
          "model_name": "LayoutModel",
          "model_module_version": "1.2.0",
          "state": {
            "_model_module": "@jupyter-widgets/base",
            "_model_module_version": "1.2.0",
            "_model_name": "LayoutModel",
            "_view_count": null,
            "_view_module": "@jupyter-widgets/base",
            "_view_module_version": "1.2.0",
            "_view_name": "LayoutView",
            "align_content": null,
            "align_items": null,
            "align_self": null,
            "border": null,
            "bottom": null,
            "display": null,
            "flex": null,
            "flex_flow": null,
            "grid_area": null,
            "grid_auto_columns": null,
            "grid_auto_flow": null,
            "grid_auto_rows": null,
            "grid_column": null,
            "grid_gap": null,
            "grid_row": null,
            "grid_template_areas": null,
            "grid_template_columns": null,
            "grid_template_rows": null,
            "height": null,
            "justify_content": null,
            "justify_items": null,
            "left": null,
            "margin": null,
            "max_height": null,
            "max_width": null,
            "min_height": null,
            "min_width": null,
            "object_fit": null,
            "object_position": null,
            "order": null,
            "overflow": null,
            "overflow_x": null,
            "overflow_y": null,
            "padding": null,
            "right": null,
            "top": null,
            "visibility": null,
            "width": null
          }
        },
        "22727d170f36490a97cf7e72617f2090": {
          "model_module": "@jupyter-widgets/controls",
          "model_name": "DescriptionStyleModel",
          "model_module_version": "1.5.0",
          "state": {
            "_model_module": "@jupyter-widgets/controls",
            "_model_module_version": "1.5.0",
            "_model_name": "DescriptionStyleModel",
            "_view_count": null,
            "_view_module": "@jupyter-widgets/base",
            "_view_module_version": "1.2.0",
            "_view_name": "StyleView",
            "description_width": ""
          }
        },
        "7d57cc6aaf4945be8281f07bde6fbb9b": {
          "model_module": "@jupyter-widgets/base",
          "model_name": "LayoutModel",
          "model_module_version": "1.2.0",
          "state": {
            "_model_module": "@jupyter-widgets/base",
            "_model_module_version": "1.2.0",
            "_model_name": "LayoutModel",
            "_view_count": null,
            "_view_module": "@jupyter-widgets/base",
            "_view_module_version": "1.2.0",
            "_view_name": "LayoutView",
            "align_content": null,
            "align_items": null,
            "align_self": null,
            "border": null,
            "bottom": null,
            "display": null,
            "flex": null,
            "flex_flow": null,
            "grid_area": null,
            "grid_auto_columns": null,
            "grid_auto_flow": null,
            "grid_auto_rows": null,
            "grid_column": null,
            "grid_gap": null,
            "grid_row": null,
            "grid_template_areas": null,
            "grid_template_columns": null,
            "grid_template_rows": null,
            "height": null,
            "justify_content": null,
            "justify_items": null,
            "left": null,
            "margin": null,
            "max_height": null,
            "max_width": null,
            "min_height": null,
            "min_width": null,
            "object_fit": null,
            "object_position": null,
            "order": null,
            "overflow": null,
            "overflow_x": null,
            "overflow_y": null,
            "padding": null,
            "right": null,
            "top": null,
            "visibility": null,
            "width": null
          }
        },
        "bc856988221f42b5ae9115d8ebfb5681": {
          "model_module": "@jupyter-widgets/controls",
          "model_name": "ButtonStyleModel",
          "model_module_version": "1.5.0",
          "state": {
            "_model_module": "@jupyter-widgets/controls",
            "_model_module_version": "1.5.0",
            "_model_name": "ButtonStyleModel",
            "_view_count": null,
            "_view_module": "@jupyter-widgets/base",
            "_view_module_version": "1.2.0",
            "_view_name": "StyleView",
            "button_color": null,
            "font_weight": ""
          }
        },
        "6e7b442462c84acd9831e8f48f46a7d3": {
          "model_module": "@jupyter-widgets/base",
          "model_name": "LayoutModel",
          "model_module_version": "1.2.0",
          "state": {
            "_model_module": "@jupyter-widgets/base",
            "_model_module_version": "1.2.0",
            "_model_name": "LayoutModel",
            "_view_count": null,
            "_view_module": "@jupyter-widgets/base",
            "_view_module_version": "1.2.0",
            "_view_name": "LayoutView",
            "align_content": null,
            "align_items": null,
            "align_self": null,
            "border": null,
            "bottom": null,
            "display": null,
            "flex": null,
            "flex_flow": null,
            "grid_area": null,
            "grid_auto_columns": null,
            "grid_auto_flow": null,
            "grid_auto_rows": null,
            "grid_column": null,
            "grid_gap": null,
            "grid_row": null,
            "grid_template_areas": null,
            "grid_template_columns": null,
            "grid_template_rows": null,
            "height": null,
            "justify_content": null,
            "justify_items": null,
            "left": null,
            "margin": null,
            "max_height": null,
            "max_width": null,
            "min_height": null,
            "min_width": null,
            "object_fit": null,
            "object_position": null,
            "order": null,
            "overflow": null,
            "overflow_x": null,
            "overflow_y": null,
            "padding": null,
            "right": null,
            "top": null,
            "visibility": null,
            "width": null
          }
        },
        "96f779f8556f41c18f94373c125d20b7": {
          "model_module": "@jupyter-widgets/controls",
          "model_name": "DescriptionStyleModel",
          "model_module_version": "1.5.0",
          "state": {
            "_model_module": "@jupyter-widgets/controls",
            "_model_module_version": "1.5.0",
            "_model_name": "DescriptionStyleModel",
            "_view_count": null,
            "_view_module": "@jupyter-widgets/base",
            "_view_module_version": "1.2.0",
            "_view_name": "StyleView",
            "description_width": ""
          }
        },
        "fbaabc5af36c48c48ebaf699df99986c": {
          "model_module": "@jupyter-widgets/controls",
          "model_name": "LabelModel",
          "model_module_version": "1.5.0",
          "state": {
            "_dom_classes": [],
            "_model_module": "@jupyter-widgets/controls",
            "_model_module_version": "1.5.0",
            "_model_name": "LabelModel",
            "_view_count": null,
            "_view_module": "@jupyter-widgets/controls",
            "_view_module_version": "1.5.0",
            "_view_name": "LabelView",
            "description": "",
            "description_tooltip": null,
            "layout": "IPY_MODEL_43a92def67f54f219f2eb3d92d56d158",
            "placeholder": "​",
            "style": "IPY_MODEL_cdc0b23139254b868f91d6a2d5d17f73",
            "value": "Connecting..."
          }
        },
        "43a92def67f54f219f2eb3d92d56d158": {
          "model_module": "@jupyter-widgets/base",
          "model_name": "LayoutModel",
          "model_module_version": "1.2.0",
          "state": {
            "_model_module": "@jupyter-widgets/base",
            "_model_module_version": "1.2.0",
            "_model_name": "LayoutModel",
            "_view_count": null,
            "_view_module": "@jupyter-widgets/base",
            "_view_module_version": "1.2.0",
            "_view_name": "LayoutView",
            "align_content": null,
            "align_items": null,
            "align_self": null,
            "border": null,
            "bottom": null,
            "display": null,
            "flex": null,
            "flex_flow": null,
            "grid_area": null,
            "grid_auto_columns": null,
            "grid_auto_flow": null,
            "grid_auto_rows": null,
            "grid_column": null,
            "grid_gap": null,
            "grid_row": null,
            "grid_template_areas": null,
            "grid_template_columns": null,
            "grid_template_rows": null,
            "height": null,
            "justify_content": null,
            "justify_items": null,
            "left": null,
            "margin": null,
            "max_height": null,
            "max_width": null,
            "min_height": null,
            "min_width": null,
            "object_fit": null,
            "object_position": null,
            "order": null,
            "overflow": null,
            "overflow_x": null,
            "overflow_y": null,
            "padding": null,
            "right": null,
            "top": null,
            "visibility": null,
            "width": null
          }
        },
        "cdc0b23139254b868f91d6a2d5d17f73": {
          "model_module": "@jupyter-widgets/controls",
          "model_name": "DescriptionStyleModel",
          "model_module_version": "1.5.0",
          "state": {
            "_model_module": "@jupyter-widgets/controls",
            "_model_module_version": "1.5.0",
            "_model_name": "DescriptionStyleModel",
            "_view_count": null,
            "_view_module": "@jupyter-widgets/base",
            "_view_module_version": "1.2.0",
            "_view_name": "StyleView",
            "description_width": ""
          }
        },
        "222a14992ab6471d8a748c53919f8138": {
          "model_module": "@jupyter-widgets/controls",
          "model_name": "LabelModel",
          "model_module_version": "1.5.0",
          "state": {
            "_dom_classes": [],
            "_model_module": "@jupyter-widgets/controls",
            "_model_module_version": "1.5.0",
            "_model_name": "LabelModel",
            "_view_count": null,
            "_view_module": "@jupyter-widgets/controls",
            "_view_module_version": "1.5.0",
            "_view_name": "LabelView",
            "description": "",
            "description_tooltip": null,
            "layout": "IPY_MODEL_a895fe563ad645ecb57acc5cd561379e",
            "placeholder": "​",
            "style": "IPY_MODEL_f25ebe72c58a459c980b2655ae286ce8",
            "value": "Kaggle credentials successfully validated."
          }
        },
        "a895fe563ad645ecb57acc5cd561379e": {
          "model_module": "@jupyter-widgets/base",
          "model_name": "LayoutModel",
          "model_module_version": "1.2.0",
          "state": {
            "_model_module": "@jupyter-widgets/base",
            "_model_module_version": "1.2.0",
            "_model_name": "LayoutModel",
            "_view_count": null,
            "_view_module": "@jupyter-widgets/base",
            "_view_module_version": "1.2.0",
            "_view_name": "LayoutView",
            "align_content": null,
            "align_items": null,
            "align_self": null,
            "border": null,
            "bottom": null,
            "display": null,
            "flex": null,
            "flex_flow": null,
            "grid_area": null,
            "grid_auto_columns": null,
            "grid_auto_flow": null,
            "grid_auto_rows": null,
            "grid_column": null,
            "grid_gap": null,
            "grid_row": null,
            "grid_template_areas": null,
            "grid_template_columns": null,
            "grid_template_rows": null,
            "height": null,
            "justify_content": null,
            "justify_items": null,
            "left": null,
            "margin": null,
            "max_height": null,
            "max_width": null,
            "min_height": null,
            "min_width": null,
            "object_fit": null,
            "object_position": null,
            "order": null,
            "overflow": null,
            "overflow_x": null,
            "overflow_y": null,
            "padding": null,
            "right": null,
            "top": null,
            "visibility": null,
            "width": null
          }
        },
        "f25ebe72c58a459c980b2655ae286ce8": {
          "model_module": "@jupyter-widgets/controls",
          "model_name": "DescriptionStyleModel",
          "model_module_version": "1.5.0",
          "state": {
            "_model_module": "@jupyter-widgets/controls",
            "_model_module_version": "1.5.0",
            "_model_name": "DescriptionStyleModel",
            "_view_count": null,
            "_view_module": "@jupyter-widgets/base",
            "_view_module_version": "1.2.0",
            "_view_name": "StyleView",
            "description_width": ""
          }
        }
      }
    }
  },
  "nbformat_minor": 0,
  "nbformat": 4,
  "cells": [
    {
      "cell_type": "markdown",
      "metadata": {
        "id": "view-in-github",
        "colab_type": "text"
      },
      "source": [
        "<a href=\"https://colab.research.google.com/github/gRedDeer/kaggle_notebooks/blob/main/Loan_Approval_%7C_Exploration.ipynb\" target=\"_parent\"><img src=\"https://colab.research.google.com/assets/colab-badge.svg\" alt=\"Open In Colab\"/></a>"
      ]
    },
    {
      "source": [
        "# IMPORTANT: SOME KAGGLE DATA SOURCES ARE PRIVATE\n",
        "# RUN THIS CELL IN ORDER TO IMPORT YOUR KAGGLE DATA SOURCES.\n",
        "import kagglehub\n",
        "kagglehub.login()\n"
      ],
      "metadata": {
        "id": "mQPGgbjuMwYg",
        "outputId": "34da85a6-77ee-4224-ff43-12955ab8feca",
        "colab": {
          "base_uri": "https://localhost:8080/",
          "height": 121,
          "referenced_widgets": [
            "e6ecad4bce0544ceb01188a1acd3e5de",
            "684613d7f72841ee8a0087a06ffd6c53",
            "c9df918c187b446d8a23fa9b4c23d5fb",
            "5bc6e4108734448c8f2886b7eea784a8",
            "64c06574dfae47c9a1dc1305b9408034",
            "80c446cbfdfc4c53930432afd21ebe7f",
            "abe45015e6a14c64ba577f0085f7f836",
            "290849eeaed4421880f3e7c952aa1ab0",
            "57c9bea55b5041ffb1ce2024fb439ed5",
            "1a3816c9e5ff4c33a4a43ab18fa68099",
            "e01fc0e36b44465f90ceafddca29eefd",
            "92241e44c03d42f2a59f60027c6026a0",
            "22727d170f36490a97cf7e72617f2090",
            "7d57cc6aaf4945be8281f07bde6fbb9b",
            "bc856988221f42b5ae9115d8ebfb5681",
            "6e7b442462c84acd9831e8f48f46a7d3",
            "96f779f8556f41c18f94373c125d20b7",
            "fbaabc5af36c48c48ebaf699df99986c",
            "43a92def67f54f219f2eb3d92d56d158",
            "cdc0b23139254b868f91d6a2d5d17f73",
            "222a14992ab6471d8a748c53919f8138",
            "a895fe563ad645ecb57acc5cd561379e",
            "f25ebe72c58a459c980b2655ae286ce8"
          ]
        }
      },
      "cell_type": "code",
      "outputs": [
        {
          "output_type": "display_data",
          "data": {
            "text/plain": [
              "VBox(children=(HTML(value='<center> <img\\nsrc=https://www.kaggle.com/static/images/site-logo.png\\nalt=\\'Kaggle…"
            ],
            "application/vnd.jupyter.widget-view+json": {
              "version_major": 2,
              "version_minor": 0,
              "model_id": "e6ecad4bce0544ceb01188a1acd3e5de"
            }
          },
          "metadata": {}
        },
        {
          "output_type": "stream",
          "name": "stdout",
          "text": [
            "Kaggle credentials set.\n",
            "Warning: Looks like you're using an outdated `kagglehub` version, please consider updating (latest version: 0.3.3)\n",
            "Kaggle credentials successfully validated.\n"
          ]
        }
      ],
      "execution_count": 1
    },
    {
      "source": [
        "# IMPORTANT: RUN THIS CELL IN ORDER TO IMPORT YOUR KAGGLE DATA SOURCES,\n",
        "# THEN FEEL FREE TO DELETE THIS CELL.\n",
        "# NOTE: THIS NOTEBOOK ENVIRONMENT DIFFERS FROM KAGGLE'S PYTHON\n",
        "# ENVIRONMENT SO THERE MAY BE MISSING LIBRARIES USED BY YOUR\n",
        "# NOTEBOOK.\n",
        "\n",
        "playground_series_s4e10_path = kagglehub.competition_download('playground-series-s4e10')\n",
        "itshappy_ps4e9_original_data_loan_approval_prediction_path = kagglehub.dataset_download('itshappy/ps4e9-original-data-loan-approval-prediction')\n",
        "\n",
        "print('Data source import complete.')\n"
      ],
      "metadata": {
        "id": "jy2IbpmvMwYi"
      },
      "cell_type": "code",
      "outputs": [],
      "execution_count": null
    },
    {
      "cell_type": "markdown",
      "source": [
        "# Imports"
      ],
      "metadata": {
        "id": "PlLDNjyAMwYi"
      }
    },
    {
      "cell_type": "code",
      "source": [
        "import pandas as pd\n",
        "import numpy as np\n",
        "import matplotlib.pyplot as plt\n",
        "import seaborn as sns"
      ],
      "metadata": {
        "execution": {
          "iopub.status.busy": "2024-10-17T01:12:23.769865Z",
          "iopub.execute_input": "2024-10-17T01:12:23.770266Z",
          "iopub.status.idle": "2024-10-17T01:12:23.775091Z",
          "shell.execute_reply.started": "2024-10-17T01:12:23.770227Z",
          "shell.execute_reply": "2024-10-17T01:12:23.774126Z"
        },
        "trusted": true,
        "id": "ajXfBpIuMwYj"
      },
      "execution_count": null,
      "outputs": []
    },
    {
      "cell_type": "code",
      "source": [
        "train = pd.read_csv('/kaggle/input/playground-series-s4e10/train.csv', index_col='id')\n",
        "original = pd.read_csv('/kaggle/input/ps4e9-original-data-loan-approval-prediction/credit_risk_dataset.csv')\n",
        "test = pd.read_csv('/kaggle/input/playground-series-s4e10/test.csv',index_col='idca')\n",
        "train.head()\n",
        "#test.head()"
      ],
      "metadata": {
        "execution": {
          "iopub.status.busy": "2024-10-17T01:12:23.777876Z",
          "iopub.execute_input": "2024-10-17T01:12:23.778192Z",
          "iopub.status.idle": "2024-10-17T01:12:23.994543Z",
          "shell.execute_reply.started": "2024-10-17T01:12:23.77816Z",
          "shell.execute_reply": "2024-10-17T01:12:23.993573Z"
        },
        "trusted": true,
        "id": "dFOvkrjkMwYk"
      },
      "execution_count": null,
      "outputs": []
    },
    {
      "cell_type": "code",
      "source": [
        "train.info()"
      ],
      "metadata": {
        "execution": {
          "iopub.status.busy": "2024-10-17T01:12:23.996397Z",
          "iopub.execute_input": "2024-10-17T01:12:23.996726Z",
          "iopub.status.idle": "2024-10-17T01:12:24.029412Z",
          "shell.execute_reply.started": "2024-10-17T01:12:23.996692Z",
          "shell.execute_reply": "2024-10-17T01:12:24.028476Z"
        },
        "trusted": true,
        "id": "IkDR5crAMwYk"
      },
      "execution_count": null,
      "outputs": []
    },
    {
      "cell_type": "code",
      "source": [
        "train.describe()"
      ],
      "metadata": {
        "execution": {
          "iopub.status.busy": "2024-10-17T01:12:24.030639Z",
          "iopub.execute_input": "2024-10-17T01:12:24.030927Z",
          "iopub.status.idle": "2024-10-17T01:12:24.071385Z",
          "shell.execute_reply.started": "2024-10-17T01:12:24.030896Z",
          "shell.execute_reply": "2024-10-17T01:12:24.070526Z"
        },
        "trusted": true,
        "id": "eobTR1jaMwYk"
      },
      "execution_count": null,
      "outputs": []
    },
    {
      "cell_type": "markdown",
      "source": [
        "# EDA\n",
        "#### Competition vs. Original\n",
        "First, let's see if orignal and competition data differ in distribution."
      ],
      "metadata": {
        "id": "QIILUvq2MwYk"
      }
    },
    {
      "cell_type": "code",
      "source": [
        "f, (ax1, ax2) = plt.subplots(1, 2)\n",
        "f.set_figheight(5)\n",
        "f.set_figwidth(12)\n",
        "\n",
        "colors = ['green', 'grey']\n",
        "ax1.pie(train.loan_status.value_counts(), labels=train.loan_status.value_counts().index, autopct=\"%.0f%%\", colors=colors)\n",
        "ax1.set_title('Competition Target distribution')\n",
        "\n",
        "ax2.pie(original.loan_status.value_counts(), labels=original.loan_status.value_counts().index, autopct=\"%.0f%%\", colors=colors)\n",
        "ax2.set_title('Original Target distribution')\n",
        "\n",
        "plt.show()"
      ],
      "metadata": {
        "execution": {
          "iopub.status.busy": "2024-10-17T01:12:24.073212Z",
          "iopub.execute_input": "2024-10-17T01:12:24.073549Z",
          "iopub.status.idle": "2024-10-17T01:12:24.322411Z",
          "shell.execute_reply.started": "2024-10-17T01:12:24.073517Z",
          "shell.execute_reply": "2024-10-17T01:12:24.321032Z"
        },
        "trusted": true,
        "id": "ESi7LgQ2MwYk"
      },
      "execution_count": null,
      "outputs": []
    },
    {
      "cell_type": "markdown",
      "source": [
        "#### Adversarial validation\n",
        "\n",
        "I take the code for adversarial validation from the Kaggle Book: https://github.com/PacktPublishing/The-Kaggle-Book/blob/main/chapter_06/adversarial-validation-example.ipynb"
      ],
      "metadata": {
        "id": "YMvR-gprMwYl"
      }
    },
    {
      "cell_type": "code",
      "source": [
        "from sklearn.ensemble import RandomForestClassifier\n",
        "from sklearn.model_selection import cross_val_predict\n",
        "from sklearn.metrics import roc_auc_score\n",
        "import warnings\n",
        "warnings.filterwarnings(\"ignore\")\n",
        "\n",
        "X =  pd.concat([train, original], axis=0)\n",
        "y = [0] * len(train) + [1] * len(original)\n",
        "\n",
        "X['person_home_ownership'].replace({'RENT': 0, 'MORTGAGE': 1, 'OWN': 2, 'OTHER': 3}, inplace=True)\n",
        "X['loan_intent'].replace({'EDUCATION': 0, 'MEDICAL': 1, 'PERSONAL': 2, 'VENTURE': 3, 'DEBTCONSOLIDATION': 4, 'HOMEIMPROVEMENT': 5}, inplace=True)\n",
        "X['loan_grade'].replace({'A': 0, 'B': 1, 'C': 2, 'D': 3, 'E': 4, 'F': 5, 'G': 6}, inplace=True)\n",
        "X['cb_person_default_on_file'].replace({'N': 0, 'Y': 1}, inplace=True)\n",
        "X['person_emp_length'] = X['person_emp_length'].fillna(original['person_emp_length'].mean())\n",
        "X['person_emp_length'] = X['person_emp_length'].astype(int)\n",
        "X['loan_int_rate'] = X['loan_int_rate'].fillna(original['loan_int_rate'].mean())\n",
        "X['loan_int_rate'] = (X['loan_int_rate'] * 100).astype(int)\n",
        "X['loan_percent_income'] = (X['loan_percent_income'] * 100).astype(int)\n",
        "\n",
        "model = RandomForestClassifier(random_state=0)\n",
        "cv_preds = cross_val_predict(model, X, y, cv=5, n_jobs=-1, method='predict_proba')\n",
        "\n",
        "score = roc_auc_score(y_true=y, y_score=cv_preds[:,1])\n",
        "print(f\"roc-auc score: {score:0.3f}\")"
      ],
      "metadata": {
        "execution": {
          "iopub.status.busy": "2024-10-17T01:12:24.324163Z",
          "iopub.execute_input": "2024-10-17T01:12:24.325885Z",
          "iopub.status.idle": "2024-10-17T01:12:57.491178Z",
          "shell.execute_reply.started": "2024-10-17T01:12:24.325819Z",
          "shell.execute_reply": "2024-10-17T01:12:57.490166Z"
        },
        "trusted": true,
        "id": "8iYSmGPGMwYl"
      },
      "execution_count": null,
      "outputs": []
    },
    {
      "cell_type": "markdown",
      "source": [
        "Both Target distibution and adversarial validation (roc-auc not around ~0.5) show difference in distributions. Hence, it's doubtful, whether original data should be added."
      ],
      "metadata": {
        "id": "u2cyAyPgMwYl"
      }
    },
    {
      "cell_type": "markdown",
      "source": [
        "#### Train, Test feature distribution comparison"
      ],
      "metadata": {
        "id": "JbTGkANrMwYm"
      }
    },
    {
      "cell_type": "code",
      "source": [
        "num_cols = ['person_age', 'person_income', 'person_emp_length', 'loan_amnt', 'loan_int_rate', 'loan_percent_income', 'cb_person_cred_hist_length']\n",
        "def plot_distribution_pairs(train, test, feature, hue=\"set\", palette=None):\n",
        "    data_df = train.copy()\n",
        "    data_df['set'] = 'train'\n",
        "    data_df = pd.concat([data_df, test.copy()]).fillna('test')\n",
        "\n",
        "    f, axes = plt.subplots(1, 2, figsize=(14, 6))\n",
        "    for i, s in enumerate(data_df[hue].unique()):\n",
        "        selection = data_df.loc[data_df[hue]==s, feature]\n",
        "        # Filter 'selection' to include only the central 95% of the data\n",
        "        q_025, q_975 = np.percentile(selection, [2.5, 97.5])\n",
        "        selection_filtered = selection[(selection >= q_025) & (selection <= q_975)]\n",
        "        with warnings.catch_warnings():\n",
        "            warnings.simplefilter(\"ignore\", category=FutureWarning)\n",
        "            sns.histplot(selection_filtered, color=palette[i], ax=axes[0], label=s)\n",
        "            sns.boxplot(x=hue, y=feature, data=data_df, palette=palette, ax=axes[1])\n",
        "    axes[0].set_title(f\"Paired train/test distributions of {feature}\")\n",
        "    axes[1].set_title(f\"Paired train/test boxplots of {feature}\")\n",
        "    axes[0].legend()\n",
        "    axes[1].legend()\n",
        "    plt.show()\n",
        "\n",
        "color_list = [\"#A5D7E8\", \"#576CBC\", \"#19376D\", \"#0B2447\"]\n",
        "for feature in num_cols:\n",
        "    plot_distribution_pairs(train, test, feature, palette=color_list)"
      ],
      "metadata": {
        "execution": {
          "iopub.status.busy": "2024-10-17T01:12:57.492418Z",
          "iopub.execute_input": "2024-10-17T01:12:57.492701Z",
          "iopub.status.idle": "2024-10-17T01:13:05.242893Z",
          "shell.execute_reply.started": "2024-10-17T01:12:57.492671Z",
          "shell.execute_reply": "2024-10-17T01:13:05.241951Z"
        },
        "trusted": true,
        "id": "itPO51URMwYm"
      },
      "execution_count": null,
      "outputs": []
    },
    {
      "cell_type": "code",
      "source": [
        "X =  pd.concat([train.drop('loan_status', axis=1), test], axis=0)\n",
        "y = [0] * len(train) + [1] * len(test)\n",
        "\n",
        "X['person_home_ownership'].replace({'RENT': 0, 'MORTGAGE': 1, 'OWN': 2, 'OTHER': 3}, inplace=True)\n",
        "X['loan_intent'].replace({'EDUCATION': 0, 'MEDICAL': 1, 'PERSONAL': 2, 'VENTURE': 3, 'DEBTCONSOLIDATION': 4, 'HOMEIMPROVEMENT': 5}, inplace=True)\n",
        "X['loan_grade'].replace({'A': 0, 'B': 1, 'C': 2, 'D': 3, 'E': 4, 'F': 5, 'G': 6}, inplace=True)\n",
        "X['cb_person_default_on_file'].replace({'N': 0, 'Y': 1}, inplace=True)\n",
        "X['person_emp_length'] = X['person_emp_length'].astype(int)\n",
        "X['loan_int_rate'] = (X['loan_int_rate'] * 100).astype(int)\n",
        "X['loan_percent_income'] = (X['loan_percent_income'] * 100).astype(int)\n",
        "\n",
        "model = RandomForestClassifier(random_state=0)\n",
        "cv_preds = cross_val_predict(model, X, y, cv=5, n_jobs=-1, method='predict_proba')\n",
        "\n",
        "score = roc_auc_score(y_true=y, y_score=cv_preds[:,1])\n",
        "print(f\"roc-auc score: {score:0.3f}\")"
      ],
      "metadata": {
        "execution": {
          "iopub.status.busy": "2024-10-17T01:13:05.244132Z",
          "iopub.execute_input": "2024-10-17T01:13:05.24448Z",
          "iopub.status.idle": "2024-10-17T01:13:50.299952Z",
          "shell.execute_reply.started": "2024-10-17T01:13:05.244446Z",
          "shell.execute_reply": "2024-10-17T01:13:50.298989Z"
        },
        "trusted": true,
        "id": "tjruHPosMwYm"
      },
      "execution_count": null,
      "outputs": []
    },
    {
      "cell_type": "markdown",
      "source": [
        "Conclusion: train and test distributions are very close, which is proved both by visualisations and adversarial validation."
      ],
      "metadata": {
        "id": "DED3hkpWMwYm"
      }
    },
    {
      "cell_type": "markdown",
      "source": [
        "# Data preprocessing"
      ],
      "metadata": {
        "id": "T1TKtiHqMwYn"
      }
    },
    {
      "cell_type": "code",
      "source": [
        "X = pd.concat([train, original], ignore_index=True)\n",
        "X = X.fillna('None')\n",
        "def preprocess(df):\n",
        "    df['loan_to_income'] = ((df['loan_amnt'] / df['person_income'])).astype('string').astype('category')\n",
        "    df['age_income_interaction'] = (df['person_age'] * df['person_income']).astype('string').astype('category')\n",
        "    df['loan_to_emp_length_ratio'] = (df['loan_amnt'] / df['person_emp_length'].replace({'None': original['person_emp_length'].mean()}).astype('float')).astype('string').astype('category')\n",
        "    monthly_income = df['person_income'] / 12\n",
        "    df['monthly_debt'] = (df['loan_amnt'] * (1 + df['loan_int_rate'].replace({'None': original['loan_int_rate'].mean()}).astype(float)) / 12)\n",
        "    df['dti_ratio'] = (df['monthly_debt'] / monthly_income).astype('string').astype('category')\n",
        "    df['monthly_debt'] = df['monthly_debt'].astype('string').astype('category')\n",
        "    df['risk_flag'] = (np.where((df['cb_person_default_on_file'] == 'Y') & (df['loan_grade'].isin(['C', 'D', 'E'])), 1, 0))\n",
        "    df['risk_flag'] = df['risk_flag'].astype('category')\n",
        "    df['person_home_ownership'] = df['person_home_ownership'].astype('category')\n",
        "    df['loan_intent'] = df['loan_intent'].astype('category')\n",
        "    df['loan_grade'] = df['loan_grade'].astype('category')\n",
        "    df['cb_person_default_on_file'] = df['cb_person_default_on_file'].astype('category')\n",
        "    df['person_emp_length'] = df['person_emp_length'].astype('string').astype('category')\n",
        "    df['loan_int_rate'] = (df['loan_int_rate'].replace({'None': original['loan_int_rate'].mean()}).astype(float) * 100).astype('string').astype('category')\n",
        "    df['loan_percent_income'] = (df['loan_percent_income'].astype(float) * 100).astype('string').astype('category')\n",
        "\n",
        "\n",
        "preprocess(test)\n",
        "preprocess(X)\n",
        "y = X.pop('loan_status')\n",
        "\n",
        "X.head()\n",
        "# y = df['loan_status']\n",
        "# X = df.drop('loan_status', axis=1)"
      ],
      "metadata": {
        "execution": {
          "iopub.status.busy": "2024-10-17T01:34:15.10278Z",
          "iopub.execute_input": "2024-10-17T01:34:15.103182Z",
          "iopub.status.idle": "2024-10-17T01:34:16.641473Z",
          "shell.execute_reply.started": "2024-10-17T01:34:15.103145Z",
          "shell.execute_reply": "2024-10-17T01:34:16.640439Z"
        },
        "trusted": true,
        "id": "i7l8lTBZMwYn"
      },
      "execution_count": null,
      "outputs": []
    },
    {
      "cell_type": "markdown",
      "source": [
        "# Model"
      ],
      "metadata": {
        "id": "CSffLyA9MwYn"
      }
    },
    {
      "cell_type": "code",
      "source": [
        "import optuna\n",
        "from optuna.samplers import TPESampler\n",
        "\n",
        "# Using optuna to tune hyperparameters a little bit\n",
        "def objective(trial):\n",
        "    params = {\n",
        "    'loss_function': 'Logloss',\n",
        "    'eval_metric': 'AUC',\n",
        "    'learning_rate': trial.suggest_float('learning_rate', 0.01, 0.3, log=True),\n",
        "    'iterations': 1000,\n",
        "    'depth': trial.suggest_int('depth', 6, 12),\n",
        "    'random_strength':0,\n",
        "    'l2_leaf_reg': trial.suggest_float('l2_leaf_reg', 1e-1, 1.0, log=True),\n",
        "    'task_type':'GPU',\n",
        "    'random_seed':42,\n",
        "    'verbose':False\n",
        "    }\n",
        "\n",
        "    model = CatBoostClassifier(**params)\n",
        "    cv = StratifiedKFold(5, shuffle=True, random_state=0)\n",
        "    cv_splits = cv.split(X, y)\n",
        "    scores = list()\n",
        "    for train_idx, val_idx in cv_splits:\n",
        "        X_train_fold, X_val_fold = X.loc[train_idx], X.loc[val_idx]\n",
        "        y_train_fold, y_val_fold = y.loc[train_idx], y.loc[val_idx]\n",
        "        X_train_pool = Pool(X_train_fold, y_train_fold, cat_features=X.columns.values)\n",
        "        X_valid_pool = Pool(X_val_fold, y_val_fold, cat_features=X.columns.values)\n",
        "        model.fit(X=X_train_pool, eval_set=X_valid_pool, verbose=False, early_stopping_rounds=200)\n",
        "        val_pred = model.predict_proba(X_valid_pool)[:, 1]\n",
        "        score = roc_auc_score(y_val_fold, val_pred)\n",
        "        scores.append(score)\n",
        "    return np.mean(scores)\n",
        "\n",
        "sqlite_db = \"sqlite:///catboost.db\"\n",
        "study_name = \"catboost\"\n",
        "optimize = False\n",
        "if optimize:\n",
        "    study = optuna.create_study(storage=sqlite_db, study_name=study_name,\n",
        "                                sampler=TPESampler(n_startup_trials=35, multivariate=True, seed=0),\n",
        "                                direction=\"maximize\", load_if_exists=True)\n",
        "\n",
        "    study.optimize(objective, n_trials=100)\n",
        "    print(f\"best optimized roc-auc: {study.best_value:0.5f}\") # 0.96664\n",
        "    print(f\"best hyperparameters: {study.best_params}\")\n",
        "    catboost_params = study.best_params\n",
        "else:\n",
        "    catboost_params = {\n",
        "        'loss_function': 'Logloss',\n",
        "        'eval_metric': 'AUC',\n",
        "        'learning_rate': 0.08114394459649094,\n",
        "        'iterations': 1000,\n",
        "        'depth': 6,\n",
        "        'random_strength':0,\n",
        "        'l2_leaf_reg': 0.7047064221215757,\n",
        "        'task_type':'GPU',\n",
        "        'random_seed':42,\n",
        "        'verbose':False\n",
        "    }"
      ],
      "metadata": {
        "execution": {
          "iopub.status.busy": "2024-10-17T01:59:14.908279Z",
          "iopub.execute_input": "2024-10-17T01:59:14.909159Z",
          "iopub.status.idle": "2024-10-17T01:59:14.921713Z",
          "shell.execute_reply.started": "2024-10-17T01:59:14.90912Z",
          "shell.execute_reply": "2024-10-17T01:59:14.920702Z"
        },
        "trusted": true,
        "id": "gVCaVDEKMwYn"
      },
      "execution_count": null,
      "outputs": []
    },
    {
      "cell_type": "markdown",
      "source": [
        "The TPESampler is set to first try random optimization for the first 35 trials and then perform a TPE Bayesian Search. I also use the multivariate approach, which is reported to outperform the independent TPE."
      ],
      "metadata": {
        "id": "MnvBK6KkMwYn"
      }
    },
    {
      "cell_type": "code",
      "source": [
        "from sklearn.model_selection import StratifiedKFold\n",
        "from catboost import Pool, CatBoostClassifier\n",
        "\n",
        "cv = StratifiedKFold(5, shuffle=True, random_state=0)\n",
        "cv_splits = cv.split(X, y)\n",
        "scores = []\n",
        "test_preds = []\n",
        "X_test_pool = Pool(test, cat_features=X.columns.values)\n",
        "for i, (train_idx, val_idx) in enumerate(cv_splits):\n",
        "    model = CatBoostClassifier(**catboost_params)\n",
        "    X_train_fold, X_val_fold = X.loc[train_idx], X.loc[val_idx]\n",
        "    y_train_fold, y_val_fold = y.loc[train_idx], y.loc[val_idx]\n",
        "    X_train_pool = Pool(X_train_fold, y_train_fold, cat_features=X.columns.values)\n",
        "    X_valid_pool = Pool(X_val_fold, y_val_fold, cat_features=X.columns.values)\n",
        "    model.fit(X=X_train_pool, eval_set=X_valid_pool, verbose=False, early_stopping_rounds=200)\n",
        "    val_pred = model.predict_proba(X_valid_pool)[:, 1]\n",
        "    score = roc_auc_score(y_val_fold, val_pred)\n",
        "    scores.append(score)\n",
        "    test_pred = model.predict_proba(X_test_pool)[:, 1]\n",
        "    test_preds.append(test_pred)\n",
        "    print(f'Fold {i + 1} roc_auc_score: {score}')\n",
        "print(f'Cross-validated roc_auc_score: {np.mean(scores):.3f} +/- {np.std(scores):.3f}')\n",
        "print(f'Max roc_auc_score score: {np.max(scores):.3f}')\n",
        "print(f'Min roc_auc_score score: {np.min(scores):.3f}')"
      ],
      "metadata": {
        "execution": {
          "iopub.status.busy": "2024-10-17T01:34:21.554709Z",
          "iopub.execute_input": "2024-10-17T01:34:21.555609Z",
          "iopub.status.idle": "2024-10-17T01:37:17.757885Z",
          "shell.execute_reply.started": "2024-10-17T01:34:21.555566Z",
          "shell.execute_reply": "2024-10-17T01:37:17.756653Z"
        },
        "trusted": true,
        "id": "v5uAj__eMwYn"
      },
      "execution_count": null,
      "outputs": []
    },
    {
      "cell_type": "markdown",
      "source": [
        "# Explainability\n",
        "To understand how the model actually works, the Catboost model itself is used to calculate SHAP (SHapley Additive exPlanations) values for each feature in the training data. The SHAP values are obtained by using **shap.TreeExplainer**. Then we create a summary plot visualizing the impact of different features on the model predictions and a violin plot, where each violin represents the distribution of SHAP values for a specific feature."
      ],
      "metadata": {
        "id": "P4MPD8LhMwYo"
      }
    },
    {
      "cell_type": "code",
      "source": [
        "import shap\n",
        "explainer = shap.TreeExplainer(model)\n",
        "shap_values = explainer.shap_values(X_train_pool)"
      ],
      "metadata": {
        "execution": {
          "iopub.status.busy": "2024-10-17T01:39:57.076529Z",
          "iopub.execute_input": "2024-10-17T01:39:57.077957Z",
          "iopub.status.idle": "2024-10-17T01:40:06.04294Z",
          "shell.execute_reply.started": "2024-10-17T01:39:57.077912Z",
          "shell.execute_reply": "2024-10-17T01:40:06.041891Z"
        },
        "trusted": true,
        "id": "jhZ6TvvRMwYo"
      },
      "execution_count": null,
      "outputs": []
    },
    {
      "cell_type": "code",
      "source": [
        "shap.summary_plot(\n",
        "    shap_values,\n",
        "    X,\n",
        "    plot_type=\"bar\",\n",
        "    class_names=np.unique(y),\n",
        "    color='purple',\n",
        "    show=False\n",
        ")\n",
        "plt.xticks(fontsize=14)\n",
        "plt.yticks(fontsize=14)\n",
        "plt.xlabel('Mean Absolute SHAP Value', fontsize=14)\n",
        "plt.title('Feature Importance by SHAP Values', fontsize=16)\n",
        "plt.grid(visible=True, which='both', linestyle='--', linewidth=0.5)\n",
        "plt.show()"
      ],
      "metadata": {
        "execution": {
          "iopub.status.busy": "2024-10-17T01:40:40.692619Z",
          "iopub.execute_input": "2024-10-17T01:40:40.693164Z",
          "iopub.status.idle": "2024-10-17T01:40:41.319101Z",
          "shell.execute_reply.started": "2024-10-17T01:40:40.693112Z",
          "shell.execute_reply": "2024-10-17T01:40:41.318173Z"
        },
        "trusted": true,
        "id": "p65DjMc5MwYo"
      },
      "execution_count": null,
      "outputs": []
    },
    {
      "cell_type": "code",
      "source": [
        "shap.summary_plot(shap_values, X.columns, plot_type=\"violin\", show=False)\n",
        "plt.xticks(fontsize=12)\n",
        "plt.yticks(fontsize=12)\n",
        "plt.title('Feature Importance Distribution by SHAP Values', fontsize=14)\n",
        "plt.grid(visible=True, which='both', linestyle='--', linewidth=0.5)\n",
        "plt.show()"
      ],
      "metadata": {
        "execution": {
          "iopub.status.busy": "2024-10-17T01:41:03.025416Z",
          "iopub.execute_input": "2024-10-17T01:41:03.026086Z",
          "iopub.status.idle": "2024-10-17T01:41:09.343011Z",
          "shell.execute_reply.started": "2024-10-17T01:41:03.026045Z",
          "shell.execute_reply": "2024-10-17T01:41:09.342072Z"
        },
        "trusted": true,
        "id": "kN94LUf2MwYo"
      },
      "execution_count": null,
      "outputs": []
    },
    {
      "cell_type": "markdown",
      "source": [
        "# Submission"
      ],
      "metadata": {
        "id": "1QgyMgmwMwYo"
      }
    },
    {
      "cell_type": "code",
      "source": [
        "sample_submission = pd.read_csv('/kaggle/input/playground-series-s4e10/sample_submission.csv')\n",
        "sample_submission['loan_status'] = np.mean(test_preds, axis=0)\n",
        "sample_submission.to_csv('submission.csv', index=False)\n",
        "sample_submission.head(10)"
      ],
      "metadata": {
        "execution": {
          "iopub.status.busy": "2024-10-17T01:41:18.485559Z",
          "iopub.execute_input": "2024-10-17T01:41:18.486327Z",
          "iopub.status.idle": "2024-10-17T01:41:18.621356Z",
          "shell.execute_reply.started": "2024-10-17T01:41:18.486276Z",
          "shell.execute_reply": "2024-10-17T01:41:18.620389Z"
        },
        "trusted": true,
        "id": "QRvZKcaUMwYo"
      },
      "execution_count": null,
      "outputs": []
    }
  ]
}