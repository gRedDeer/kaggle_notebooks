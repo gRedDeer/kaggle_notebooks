{
  "metadata": {
    "kernelspec": {
      "language": "python",
      "display_name": "Python 3",
      "name": "python3"
    },
    "language_info": {
      "name": "python",
      "version": "3.10.14",
      "mimetype": "text/x-python",
      "codemirror_mode": {
        "name": "ipython",
        "version": 3
      },
      "pygments_lexer": "ipython3",
      "nbconvert_exporter": "python",
      "file_extension": ".py"
    },
    "kaggle": {
      "accelerator": "none",
      "dataSources": [
        {
          "sourceId": 84894,
          "databundleVersionId": 9709193,
          "sourceType": "competition"
        },
        {
          "sourceId": 9519882,
          "sourceType": "datasetVersion",
          "datasetId": 5796052
        }
      ],
      "isInternetEnabled": true,
      "language": "python",
      "sourceType": "notebook",
      "isGpuEnabled": false
    },
    "colab": {
      "name": "Loan Approval | Exploration",
      "provenance": [],
      "include_colab_link": true
    },
    "widgets": {
      "application/vnd.jupyter.widget-state+json": {
        "63cd44c7790e43728a7720536d4b1772": {
          "model_module": "@jupyter-widgets/controls",
          "model_name": "VBoxModel",
          "model_module_version": "1.5.0",
          "state": {
            "_dom_classes": [],
            "_model_module": "@jupyter-widgets/controls",
            "_model_module_version": "1.5.0",
            "_model_name": "VBoxModel",
            "_view_count": null,
            "_view_module": "@jupyter-widgets/controls",
            "_view_module_version": "1.5.0",
            "_view_name": "VBoxView",
            "box_style": "",
            "children": [
              "IPY_MODEL_ad6ad41b1aaa4196b31de32dd1361390"
            ],
            "layout": "IPY_MODEL_91948ca2ca714265843c03b8eabdc453"
          }
        },
        "90c5a5ce9a984cb69cb254982bb4835d": {
          "model_module": "@jupyter-widgets/controls",
          "model_name": "HTMLModel",
          "model_module_version": "1.5.0",
          "state": {
            "_dom_classes": [],
            "_model_module": "@jupyter-widgets/controls",
            "_model_module_version": "1.5.0",
            "_model_name": "HTMLModel",
            "_view_count": null,
            "_view_module": "@jupyter-widgets/controls",
            "_view_module_version": "1.5.0",
            "_view_name": "HTMLView",
            "description": "",
            "description_tooltip": null,
            "layout": "IPY_MODEL_3c21d32ef1e04476978786c8cf2c6e27",
            "placeholder": "​",
            "style": "IPY_MODEL_827ebcc94b954dc3b9371c761e5942b5",
            "value": "<center> <img\nsrc=https://www.kaggle.com/static/images/site-logo.png\nalt='Kaggle'> <br> Create an API token from <a\nhref=\"https://www.kaggle.com/settings/account\" target=\"_blank\">your Kaggle\nsettings page</a> and paste it below along with your Kaggle username. <br> </center>"
          }
        },
        "257ac2073a2a4fb6af35a53e9a578328": {
          "model_module": "@jupyter-widgets/controls",
          "model_name": "TextModel",
          "model_module_version": "1.5.0",
          "state": {
            "_dom_classes": [],
            "_model_module": "@jupyter-widgets/controls",
            "_model_module_version": "1.5.0",
            "_model_name": "TextModel",
            "_view_count": null,
            "_view_module": "@jupyter-widgets/controls",
            "_view_module_version": "1.5.0",
            "_view_name": "TextView",
            "continuous_update": true,
            "description": "Username:",
            "description_tooltip": null,
            "disabled": false,
            "layout": "IPY_MODEL_1c8960b815274ef7a86498629e46502a",
            "placeholder": "​",
            "style": "IPY_MODEL_798ebc8b357b426280f23cb9c8651a1c",
            "value": "rvdrdx"
          }
        },
        "5ecd98ddb744480db7f8e5d27017941c": {
          "model_module": "@jupyter-widgets/controls",
          "model_name": "PasswordModel",
          "model_module_version": "1.5.0",
          "state": {
            "_dom_classes": [],
            "_model_module": "@jupyter-widgets/controls",
            "_model_module_version": "1.5.0",
            "_model_name": "PasswordModel",
            "_view_count": null,
            "_view_module": "@jupyter-widgets/controls",
            "_view_module_version": "1.5.0",
            "_view_name": "PasswordView",
            "continuous_update": true,
            "description": "Token:",
            "description_tooltip": null,
            "disabled": false,
            "layout": "IPY_MODEL_0d580fe0e4b34154a9a608ddcbcb3b06",
            "placeholder": "​",
            "style": "IPY_MODEL_e24ed4b138b4457e824b313d286de47c",
            "value": ""
          }
        },
        "f484f4476af14f8b93b09a45a403a839": {
          "model_module": "@jupyter-widgets/controls",
          "model_name": "ButtonModel",
          "model_module_version": "1.5.0",
          "state": {
            "_dom_classes": [],
            "_model_module": "@jupyter-widgets/controls",
            "_model_module_version": "1.5.0",
            "_model_name": "ButtonModel",
            "_view_count": null,
            "_view_module": "@jupyter-widgets/controls",
            "_view_module_version": "1.5.0",
            "_view_name": "ButtonView",
            "button_style": "",
            "description": "Login",
            "disabled": false,
            "icon": "",
            "layout": "IPY_MODEL_9881f10c305e4c36a094703685341c31",
            "style": "IPY_MODEL_c6f3772edf00458d83456c1716f840bd",
            "tooltip": ""
          }
        },
        "04781af08ba14131b31d4d0da4300535": {
          "model_module": "@jupyter-widgets/controls",
          "model_name": "HTMLModel",
          "model_module_version": "1.5.0",
          "state": {
            "_dom_classes": [],
            "_model_module": "@jupyter-widgets/controls",
            "_model_module_version": "1.5.0",
            "_model_name": "HTMLModel",
            "_view_count": null,
            "_view_module": "@jupyter-widgets/controls",
            "_view_module_version": "1.5.0",
            "_view_name": "HTMLView",
            "description": "",
            "description_tooltip": null,
            "layout": "IPY_MODEL_45d59b756d324b47ab5d4c4de31bb256",
            "placeholder": "​",
            "style": "IPY_MODEL_71ef8b98060d4aacb048755b5fa72dae",
            "value": "\n<b>Thank You</b></center>"
          }
        },
        "91948ca2ca714265843c03b8eabdc453": {
          "model_module": "@jupyter-widgets/base",
          "model_name": "LayoutModel",
          "model_module_version": "1.2.0",
          "state": {
            "_model_module": "@jupyter-widgets/base",
            "_model_module_version": "1.2.0",
            "_model_name": "LayoutModel",
            "_view_count": null,
            "_view_module": "@jupyter-widgets/base",
            "_view_module_version": "1.2.0",
            "_view_name": "LayoutView",
            "align_content": null,
            "align_items": "center",
            "align_self": null,
            "border": null,
            "bottom": null,
            "display": "flex",
            "flex": null,
            "flex_flow": "column",
            "grid_area": null,
            "grid_auto_columns": null,
            "grid_auto_flow": null,
            "grid_auto_rows": null,
            "grid_column": null,
            "grid_gap": null,
            "grid_row": null,
            "grid_template_areas": null,
            "grid_template_columns": null,
            "grid_template_rows": null,
            "height": null,
            "justify_content": null,
            "justify_items": null,
            "left": null,
            "margin": null,
            "max_height": null,
            "max_width": null,
            "min_height": null,
            "min_width": null,
            "object_fit": null,
            "object_position": null,
            "order": null,
            "overflow": null,
            "overflow_x": null,
            "overflow_y": null,
            "padding": null,
            "right": null,
            "top": null,
            "visibility": null,
            "width": "50%"
          }
        },
        "3c21d32ef1e04476978786c8cf2c6e27": {
          "model_module": "@jupyter-widgets/base",
          "model_name": "LayoutModel",
          "model_module_version": "1.2.0",
          "state": {
            "_model_module": "@jupyter-widgets/base",
            "_model_module_version": "1.2.0",
            "_model_name": "LayoutModel",
            "_view_count": null,
            "_view_module": "@jupyter-widgets/base",
            "_view_module_version": "1.2.0",
            "_view_name": "LayoutView",
            "align_content": null,
            "align_items": null,
            "align_self": null,
            "border": null,
            "bottom": null,
            "display": null,
            "flex": null,
            "flex_flow": null,
            "grid_area": null,
            "grid_auto_columns": null,
            "grid_auto_flow": null,
            "grid_auto_rows": null,
            "grid_column": null,
            "grid_gap": null,
            "grid_row": null,
            "grid_template_areas": null,
            "grid_template_columns": null,
            "grid_template_rows": null,
            "height": null,
            "justify_content": null,
            "justify_items": null,
            "left": null,
            "margin": null,
            "max_height": null,
            "max_width": null,
            "min_height": null,
            "min_width": null,
            "object_fit": null,
            "object_position": null,
            "order": null,
            "overflow": null,
            "overflow_x": null,
            "overflow_y": null,
            "padding": null,
            "right": null,
            "top": null,
            "visibility": null,
            "width": null
          }
        },
        "827ebcc94b954dc3b9371c761e5942b5": {
          "model_module": "@jupyter-widgets/controls",
          "model_name": "DescriptionStyleModel",
          "model_module_version": "1.5.0",
          "state": {
            "_model_module": "@jupyter-widgets/controls",
            "_model_module_version": "1.5.0",
            "_model_name": "DescriptionStyleModel",
            "_view_count": null,
            "_view_module": "@jupyter-widgets/base",
            "_view_module_version": "1.2.0",
            "_view_name": "StyleView",
            "description_width": ""
          }
        },
        "1c8960b815274ef7a86498629e46502a": {
          "model_module": "@jupyter-widgets/base",
          "model_name": "LayoutModel",
          "model_module_version": "1.2.0",
          "state": {
            "_model_module": "@jupyter-widgets/base",
            "_model_module_version": "1.2.0",
            "_model_name": "LayoutModel",
            "_view_count": null,
            "_view_module": "@jupyter-widgets/base",
            "_view_module_version": "1.2.0",
            "_view_name": "LayoutView",
            "align_content": null,
            "align_items": null,
            "align_self": null,
            "border": null,
            "bottom": null,
            "display": null,
            "flex": null,
            "flex_flow": null,
            "grid_area": null,
            "grid_auto_columns": null,
            "grid_auto_flow": null,
            "grid_auto_rows": null,
            "grid_column": null,
            "grid_gap": null,
            "grid_row": null,
            "grid_template_areas": null,
            "grid_template_columns": null,
            "grid_template_rows": null,
            "height": null,
            "justify_content": null,
            "justify_items": null,
            "left": null,
            "margin": null,
            "max_height": null,
            "max_width": null,
            "min_height": null,
            "min_width": null,
            "object_fit": null,
            "object_position": null,
            "order": null,
            "overflow": null,
            "overflow_x": null,
            "overflow_y": null,
            "padding": null,
            "right": null,
            "top": null,
            "visibility": null,
            "width": null
          }
        },
        "798ebc8b357b426280f23cb9c8651a1c": {
          "model_module": "@jupyter-widgets/controls",
          "model_name": "DescriptionStyleModel",
          "model_module_version": "1.5.0",
          "state": {
            "_model_module": "@jupyter-widgets/controls",
            "_model_module_version": "1.5.0",
            "_model_name": "DescriptionStyleModel",
            "_view_count": null,
            "_view_module": "@jupyter-widgets/base",
            "_view_module_version": "1.2.0",
            "_view_name": "StyleView",
            "description_width": ""
          }
        },
        "0d580fe0e4b34154a9a608ddcbcb3b06": {
          "model_module": "@jupyter-widgets/base",
          "model_name": "LayoutModel",
          "model_module_version": "1.2.0",
          "state": {
            "_model_module": "@jupyter-widgets/base",
            "_model_module_version": "1.2.0",
            "_model_name": "LayoutModel",
            "_view_count": null,
            "_view_module": "@jupyter-widgets/base",
            "_view_module_version": "1.2.0",
            "_view_name": "LayoutView",
            "align_content": null,
            "align_items": null,
            "align_self": null,
            "border": null,
            "bottom": null,
            "display": null,
            "flex": null,
            "flex_flow": null,
            "grid_area": null,
            "grid_auto_columns": null,
            "grid_auto_flow": null,
            "grid_auto_rows": null,
            "grid_column": null,
            "grid_gap": null,
            "grid_row": null,
            "grid_template_areas": null,
            "grid_template_columns": null,
            "grid_template_rows": null,
            "height": null,
            "justify_content": null,
            "justify_items": null,
            "left": null,
            "margin": null,
            "max_height": null,
            "max_width": null,
            "min_height": null,
            "min_width": null,
            "object_fit": null,
            "object_position": null,
            "order": null,
            "overflow": null,
            "overflow_x": null,
            "overflow_y": null,
            "padding": null,
            "right": null,
            "top": null,
            "visibility": null,
            "width": null
          }
        },
        "e24ed4b138b4457e824b313d286de47c": {
          "model_module": "@jupyter-widgets/controls",
          "model_name": "DescriptionStyleModel",
          "model_module_version": "1.5.0",
          "state": {
            "_model_module": "@jupyter-widgets/controls",
            "_model_module_version": "1.5.0",
            "_model_name": "DescriptionStyleModel",
            "_view_count": null,
            "_view_module": "@jupyter-widgets/base",
            "_view_module_version": "1.2.0",
            "_view_name": "StyleView",
            "description_width": ""
          }
        },
        "9881f10c305e4c36a094703685341c31": {
          "model_module": "@jupyter-widgets/base",
          "model_name": "LayoutModel",
          "model_module_version": "1.2.0",
          "state": {
            "_model_module": "@jupyter-widgets/base",
            "_model_module_version": "1.2.0",
            "_model_name": "LayoutModel",
            "_view_count": null,
            "_view_module": "@jupyter-widgets/base",
            "_view_module_version": "1.2.0",
            "_view_name": "LayoutView",
            "align_content": null,
            "align_items": null,
            "align_self": null,
            "border": null,
            "bottom": null,
            "display": null,
            "flex": null,
            "flex_flow": null,
            "grid_area": null,
            "grid_auto_columns": null,
            "grid_auto_flow": null,
            "grid_auto_rows": null,
            "grid_column": null,
            "grid_gap": null,
            "grid_row": null,
            "grid_template_areas": null,
            "grid_template_columns": null,
            "grid_template_rows": null,
            "height": null,
            "justify_content": null,
            "justify_items": null,
            "left": null,
            "margin": null,
            "max_height": null,
            "max_width": null,
            "min_height": null,
            "min_width": null,
            "object_fit": null,
            "object_position": null,
            "order": null,
            "overflow": null,
            "overflow_x": null,
            "overflow_y": null,
            "padding": null,
            "right": null,
            "top": null,
            "visibility": null,
            "width": null
          }
        },
        "c6f3772edf00458d83456c1716f840bd": {
          "model_module": "@jupyter-widgets/controls",
          "model_name": "ButtonStyleModel",
          "model_module_version": "1.5.0",
          "state": {
            "_model_module": "@jupyter-widgets/controls",
            "_model_module_version": "1.5.0",
            "_model_name": "ButtonStyleModel",
            "_view_count": null,
            "_view_module": "@jupyter-widgets/base",
            "_view_module_version": "1.2.0",
            "_view_name": "StyleView",
            "button_color": null,
            "font_weight": ""
          }
        },
        "45d59b756d324b47ab5d4c4de31bb256": {
          "model_module": "@jupyter-widgets/base",
          "model_name": "LayoutModel",
          "model_module_version": "1.2.0",
          "state": {
            "_model_module": "@jupyter-widgets/base",
            "_model_module_version": "1.2.0",
            "_model_name": "LayoutModel",
            "_view_count": null,
            "_view_module": "@jupyter-widgets/base",
            "_view_module_version": "1.2.0",
            "_view_name": "LayoutView",
            "align_content": null,
            "align_items": null,
            "align_self": null,
            "border": null,
            "bottom": null,
            "display": null,
            "flex": null,
            "flex_flow": null,
            "grid_area": null,
            "grid_auto_columns": null,
            "grid_auto_flow": null,
            "grid_auto_rows": null,
            "grid_column": null,
            "grid_gap": null,
            "grid_row": null,
            "grid_template_areas": null,
            "grid_template_columns": null,
            "grid_template_rows": null,
            "height": null,
            "justify_content": null,
            "justify_items": null,
            "left": null,
            "margin": null,
            "max_height": null,
            "max_width": null,
            "min_height": null,
            "min_width": null,
            "object_fit": null,
            "object_position": null,
            "order": null,
            "overflow": null,
            "overflow_x": null,
            "overflow_y": null,
            "padding": null,
            "right": null,
            "top": null,
            "visibility": null,
            "width": null
          }
        },
        "71ef8b98060d4aacb048755b5fa72dae": {
          "model_module": "@jupyter-widgets/controls",
          "model_name": "DescriptionStyleModel",
          "model_module_version": "1.5.0",
          "state": {
            "_model_module": "@jupyter-widgets/controls",
            "_model_module_version": "1.5.0",
            "_model_name": "DescriptionStyleModel",
            "_view_count": null,
            "_view_module": "@jupyter-widgets/base",
            "_view_module_version": "1.2.0",
            "_view_name": "StyleView",
            "description_width": ""
          }
        },
        "c080ba81495a4e55bc03c819074ef001": {
          "model_module": "@jupyter-widgets/controls",
          "model_name": "LabelModel",
          "model_module_version": "1.5.0",
          "state": {
            "_dom_classes": [],
            "_model_module": "@jupyter-widgets/controls",
            "_model_module_version": "1.5.0",
            "_model_name": "LabelModel",
            "_view_count": null,
            "_view_module": "@jupyter-widgets/controls",
            "_view_module_version": "1.5.0",
            "_view_name": "LabelView",
            "description": "",
            "description_tooltip": null,
            "layout": "IPY_MODEL_775730612f1a4709a3e1b06afa9a4931",
            "placeholder": "​",
            "style": "IPY_MODEL_b768a8c0f20d44b58ca27a5663240f20",
            "value": "Connecting..."
          }
        },
        "775730612f1a4709a3e1b06afa9a4931": {
          "model_module": "@jupyter-widgets/base",
          "model_name": "LayoutModel",
          "model_module_version": "1.2.0",
          "state": {
            "_model_module": "@jupyter-widgets/base",
            "_model_module_version": "1.2.0",
            "_model_name": "LayoutModel",
            "_view_count": null,
            "_view_module": "@jupyter-widgets/base",
            "_view_module_version": "1.2.0",
            "_view_name": "LayoutView",
            "align_content": null,
            "align_items": null,
            "align_self": null,
            "border": null,
            "bottom": null,
            "display": null,
            "flex": null,
            "flex_flow": null,
            "grid_area": null,
            "grid_auto_columns": null,
            "grid_auto_flow": null,
            "grid_auto_rows": null,
            "grid_column": null,
            "grid_gap": null,
            "grid_row": null,
            "grid_template_areas": null,
            "grid_template_columns": null,
            "grid_template_rows": null,
            "height": null,
            "justify_content": null,
            "justify_items": null,
            "left": null,
            "margin": null,
            "max_height": null,
            "max_width": null,
            "min_height": null,
            "min_width": null,
            "object_fit": null,
            "object_position": null,
            "order": null,
            "overflow": null,
            "overflow_x": null,
            "overflow_y": null,
            "padding": null,
            "right": null,
            "top": null,
            "visibility": null,
            "width": null
          }
        },
        "b768a8c0f20d44b58ca27a5663240f20": {
          "model_module": "@jupyter-widgets/controls",
          "model_name": "DescriptionStyleModel",
          "model_module_version": "1.5.0",
          "state": {
            "_model_module": "@jupyter-widgets/controls",
            "_model_module_version": "1.5.0",
            "_model_name": "DescriptionStyleModel",
            "_view_count": null,
            "_view_module": "@jupyter-widgets/base",
            "_view_module_version": "1.2.0",
            "_view_name": "StyleView",
            "description_width": ""
          }
        },
        "ad6ad41b1aaa4196b31de32dd1361390": {
          "model_module": "@jupyter-widgets/controls",
          "model_name": "LabelModel",
          "model_module_version": "1.5.0",
          "state": {
            "_dom_classes": [],
            "_model_module": "@jupyter-widgets/controls",
            "_model_module_version": "1.5.0",
            "_model_name": "LabelModel",
            "_view_count": null,
            "_view_module": "@jupyter-widgets/controls",
            "_view_module_version": "1.5.0",
            "_view_name": "LabelView",
            "description": "",
            "description_tooltip": null,
            "layout": "IPY_MODEL_3770f0f6997c4806851ab58b2575bb33",
            "placeholder": "​",
            "style": "IPY_MODEL_d67cbe69f4f74b11b34e9d1a928f4e9c",
            "value": "Kaggle credentials successfully validated."
          }
        },
        "3770f0f6997c4806851ab58b2575bb33": {
          "model_module": "@jupyter-widgets/base",
          "model_name": "LayoutModel",
          "model_module_version": "1.2.0",
          "state": {
            "_model_module": "@jupyter-widgets/base",
            "_model_module_version": "1.2.0",
            "_model_name": "LayoutModel",
            "_view_count": null,
            "_view_module": "@jupyter-widgets/base",
            "_view_module_version": "1.2.0",
            "_view_name": "LayoutView",
            "align_content": null,
            "align_items": null,
            "align_self": null,
            "border": null,
            "bottom": null,
            "display": null,
            "flex": null,
            "flex_flow": null,
            "grid_area": null,
            "grid_auto_columns": null,
            "grid_auto_flow": null,
            "grid_auto_rows": null,
            "grid_column": null,
            "grid_gap": null,
            "grid_row": null,
            "grid_template_areas": null,
            "grid_template_columns": null,
            "grid_template_rows": null,
            "height": null,
            "justify_content": null,
            "justify_items": null,
            "left": null,
            "margin": null,
            "max_height": null,
            "max_width": null,
            "min_height": null,
            "min_width": null,
            "object_fit": null,
            "object_position": null,
            "order": null,
            "overflow": null,
            "overflow_x": null,
            "overflow_y": null,
            "padding": null,
            "right": null,
            "top": null,
            "visibility": null,
            "width": null
          }
        },
        "d67cbe69f4f74b11b34e9d1a928f4e9c": {
          "model_module": "@jupyter-widgets/controls",
          "model_name": "DescriptionStyleModel",
          "model_module_version": "1.5.0",
          "state": {
            "_model_module": "@jupyter-widgets/controls",
            "_model_module_version": "1.5.0",
            "_model_name": "DescriptionStyleModel",
            "_view_count": null,
            "_view_module": "@jupyter-widgets/base",
            "_view_module_version": "1.2.0",
            "_view_name": "StyleView",
            "description_width": ""
          }
        }
      }
    }
  },
  "nbformat_minor": 0,
  "nbformat": 4,
  "cells": [
    {
      "cell_type": "markdown",
      "metadata": {
        "id": "view-in-github",
        "colab_type": "text"
      },
      "source": [
        "<a href=\"https://colab.research.google.com/github/gRedDeer/kaggle_notebooks/blob/main/Loan_Approval_%7C_Exploration.ipynb\" target=\"_parent\"><img src=\"https://colab.research.google.com/assets/colab-badge.svg\" alt=\"Open In Colab\"/></a>"
      ]
    },
    {
      "cell_type": "code",
      "source": [],
      "metadata": {
        "id": "OtGC6xATR_z1"
      },
      "execution_count": null,
      "outputs": []
    },
    {
      "source": [
        "# IMPORTANT: SOME KAGGLE DATA SOURCES ARE PRIVATE\n",
        "# RUN THIS CELL IN ORDER TO IMPORT YOUR KAGGLE DATA SOURCES.\n",
        "!pip install kagglehub\n",
        "import os\n",
        "import kagglehub\n",
        "kagglehub.login()\n"
      ],
      "metadata": {
        "collapsed": true,
        "id": "tmiOaiwLRnH0",
        "outputId": "cc07885d-f87f-442b-88a2-940a548b30b5",
        "colab": {
          "base_uri": "https://localhost:8080/",
          "height": 260,
          "referenced_widgets": [
            "63cd44c7790e43728a7720536d4b1772",
            "90c5a5ce9a984cb69cb254982bb4835d",
            "257ac2073a2a4fb6af35a53e9a578328",
            "5ecd98ddb744480db7f8e5d27017941c",
            "f484f4476af14f8b93b09a45a403a839",
            "04781af08ba14131b31d4d0da4300535",
            "91948ca2ca714265843c03b8eabdc453",
            "3c21d32ef1e04476978786c8cf2c6e27",
            "827ebcc94b954dc3b9371c761e5942b5",
            "1c8960b815274ef7a86498629e46502a",
            "798ebc8b357b426280f23cb9c8651a1c",
            "0d580fe0e4b34154a9a608ddcbcb3b06",
            "e24ed4b138b4457e824b313d286de47c",
            "9881f10c305e4c36a094703685341c31",
            "c6f3772edf00458d83456c1716f840bd",
            "45d59b756d324b47ab5d4c4de31bb256",
            "71ef8b98060d4aacb048755b5fa72dae",
            "c080ba81495a4e55bc03c819074ef001",
            "775730612f1a4709a3e1b06afa9a4931",
            "b768a8c0f20d44b58ca27a5663240f20",
            "ad6ad41b1aaa4196b31de32dd1361390",
            "3770f0f6997c4806851ab58b2575bb33",
            "d67cbe69f4f74b11b34e9d1a928f4e9c"
          ]
        }
      },
      "cell_type": "code",
      "outputs": [
        {
          "output_type": "stream",
          "name": "stdout",
          "text": [
            "Requirement already satisfied: kagglehub in /usr/local/lib/python3.10/dist-packages (0.3.1)\n",
            "Requirement already satisfied: packaging in /usr/local/lib/python3.10/dist-packages (from kagglehub) (24.1)\n",
            "Requirement already satisfied: requests in /usr/local/lib/python3.10/dist-packages (from kagglehub) (2.32.3)\n",
            "Requirement already satisfied: tqdm in /usr/local/lib/python3.10/dist-packages (from kagglehub) (4.66.5)\n",
            "Requirement already satisfied: charset-normalizer<4,>=2 in /usr/local/lib/python3.10/dist-packages (from requests->kagglehub) (3.4.0)\n",
            "Requirement already satisfied: idna<4,>=2.5 in /usr/local/lib/python3.10/dist-packages (from requests->kagglehub) (3.10)\n",
            "Requirement already satisfied: urllib3<3,>=1.21.1 in /usr/local/lib/python3.10/dist-packages (from requests->kagglehub) (2.2.3)\n",
            "Requirement already satisfied: certifi>=2017.4.17 in /usr/local/lib/python3.10/dist-packages (from requests->kagglehub) (2024.8.30)\n"
          ]
        },
        {
          "output_type": "display_data",
          "data": {
            "text/plain": [
              "VBox(children=(HTML(value='<center> <img\\nsrc=https://www.kaggle.com/static/images/site-logo.png\\nalt=\\'Kaggle…"
            ],
            "application/vnd.jupyter.widget-view+json": {
              "version_major": 2,
              "version_minor": 0,
              "model_id": "63cd44c7790e43728a7720536d4b1772"
            }
          },
          "metadata": {}
        },
        {
          "output_type": "stream",
          "name": "stdout",
          "text": [
            "Kaggle credentials set.\n",
            "Warning: Looks like you're using an outdated `kagglehub` version, please consider updating (latest version: 0.3.3)\n",
            "Kaggle credentials successfully validated.\n"
          ]
        }
      ],
      "execution_count": 6
    },
    {
      "source": [
        "# IMPORTANT: RUN THIS CELL IN ORDER TO IMPORT YOUR KAGGLE DATA SOURCES,\n",
        "# THEN FEEL FREE TO DELETE THIS CELL.\n",
        "# NOTE: THIS NOTEBOOK ENVIRONMENT DIFFERS FROM KAGGLE'S PYTHON\n",
        "# ENVIRONMENT SO THERE MAY BE MISSING LIBRARIES USED BY YOUR\n",
        "# NOTEBOOK.\n",
        "\n",
        "playground_series_s4e10_path = kagglehub.competition_download('playground-series-s4e10')\n",
        "itshappy_ps4e9_original_data_loan_approval_prediction_path = kagglehub.dataset_download('itshappy/ps4e9-original-data-loan-approval-prediction')\n",
        "\n",
        "print('Data source import complete.')\n"
      ],
      "metadata": {
        "collapsed": true,
        "id": "Zt3sdO2qRnH1",
        "outputId": "c1ae58d6-e59f-4519-dd6b-f571e78314dd",
        "colab": {
          "base_uri": "https://localhost:8080/"
        }
      },
      "cell_type": "code",
      "outputs": [
        {
          "output_type": "stream",
          "name": "stdout",
          "text": [
            "Warning: Looks like you're using an outdated `kagglehub` version, please consider updating (latest version: 0.3.3)\n",
            "Data source import complete.\n"
          ]
        }
      ],
      "execution_count": 8
    },
    {
      "cell_type": "markdown",
      "source": [
        "# Imports"
      ],
      "metadata": {
        "id": "NxOJ2ubYRnH2"
      }
    },
    {
      "cell_type": "code",
      "source": [
        "!pip install catboost\n",
        "!pip install optuna\n",
        "!pip install shap"
      ],
      "metadata": {
        "collapsed": true,
        "id": "2tjBeoBgSehN",
        "outputId": "567ac7a7-430a-463e-ed6a-40869847eefe",
        "colab": {
          "base_uri": "https://localhost:8080/"
        }
      },
      "execution_count": 10,
      "outputs": [
        {
          "output_type": "stream",
          "name": "stdout",
          "text": [
            "Collecting catboost\n",
            "  Downloading catboost-1.2.7-cp310-cp310-manylinux2014_x86_64.whl.metadata (1.2 kB)\n",
            "Requirement already satisfied: graphviz in /usr/local/lib/python3.10/dist-packages (from catboost) (0.20.3)\n",
            "Requirement already satisfied: matplotlib in /usr/local/lib/python3.10/dist-packages (from catboost) (3.7.1)\n",
            "Requirement already satisfied: numpy<2.0,>=1.16.0 in /usr/local/lib/python3.10/dist-packages (from catboost) (1.26.4)\n",
            "Requirement already satisfied: pandas>=0.24 in /usr/local/lib/python3.10/dist-packages (from catboost) (2.2.2)\n",
            "Requirement already satisfied: scipy in /usr/local/lib/python3.10/dist-packages (from catboost) (1.13.1)\n",
            "Requirement already satisfied: plotly in /usr/local/lib/python3.10/dist-packages (from catboost) (5.24.1)\n",
            "Requirement already satisfied: six in /usr/local/lib/python3.10/dist-packages (from catboost) (1.16.0)\n",
            "Requirement already satisfied: python-dateutil>=2.8.2 in /usr/local/lib/python3.10/dist-packages (from pandas>=0.24->catboost) (2.8.2)\n",
            "Requirement already satisfied: pytz>=2020.1 in /usr/local/lib/python3.10/dist-packages (from pandas>=0.24->catboost) (2024.2)\n",
            "Requirement already satisfied: tzdata>=2022.7 in /usr/local/lib/python3.10/dist-packages (from pandas>=0.24->catboost) (2024.2)\n",
            "Requirement already satisfied: contourpy>=1.0.1 in /usr/local/lib/python3.10/dist-packages (from matplotlib->catboost) (1.3.0)\n",
            "Requirement already satisfied: cycler>=0.10 in /usr/local/lib/python3.10/dist-packages (from matplotlib->catboost) (0.12.1)\n",
            "Requirement already satisfied: fonttools>=4.22.0 in /usr/local/lib/python3.10/dist-packages (from matplotlib->catboost) (4.54.1)\n",
            "Requirement already satisfied: kiwisolver>=1.0.1 in /usr/local/lib/python3.10/dist-packages (from matplotlib->catboost) (1.4.7)\n",
            "Requirement already satisfied: packaging>=20.0 in /usr/local/lib/python3.10/dist-packages (from matplotlib->catboost) (24.1)\n",
            "Requirement already satisfied: pillow>=6.2.0 in /usr/local/lib/python3.10/dist-packages (from matplotlib->catboost) (10.4.0)\n",
            "Requirement already satisfied: pyparsing>=2.3.1 in /usr/local/lib/python3.10/dist-packages (from matplotlib->catboost) (3.1.4)\n",
            "Requirement already satisfied: tenacity>=6.2.0 in /usr/local/lib/python3.10/dist-packages (from plotly->catboost) (9.0.0)\n",
            "Downloading catboost-1.2.7-cp310-cp310-manylinux2014_x86_64.whl (98.7 MB)\n",
            "\u001b[2K   \u001b[90m━━━━━━━━━━━━━━━━━━━━━━━━━━━━━━━━━━━━━━━━\u001b[0m \u001b[32m98.7/98.7 MB\u001b[0m \u001b[31m8.2 MB/s\u001b[0m eta \u001b[36m0:00:00\u001b[0m\n",
            "\u001b[?25hInstalling collected packages: catboost\n",
            "Successfully installed catboost-1.2.7\n",
            "Collecting optuna\n",
            "  Downloading optuna-4.0.0-py3-none-any.whl.metadata (16 kB)\n",
            "Collecting alembic>=1.5.0 (from optuna)\n",
            "  Downloading alembic-1.13.3-py3-none-any.whl.metadata (7.4 kB)\n",
            "Collecting colorlog (from optuna)\n",
            "  Downloading colorlog-6.8.2-py3-none-any.whl.metadata (10 kB)\n",
            "Requirement already satisfied: numpy in /usr/local/lib/python3.10/dist-packages (from optuna) (1.26.4)\n",
            "Requirement already satisfied: packaging>=20.0 in /usr/local/lib/python3.10/dist-packages (from optuna) (24.1)\n",
            "Requirement already satisfied: sqlalchemy>=1.3.0 in /usr/local/lib/python3.10/dist-packages (from optuna) (2.0.35)\n",
            "Requirement already satisfied: tqdm in /usr/local/lib/python3.10/dist-packages (from optuna) (4.66.5)\n",
            "Requirement already satisfied: PyYAML in /usr/local/lib/python3.10/dist-packages (from optuna) (6.0.2)\n",
            "Collecting Mako (from alembic>=1.5.0->optuna)\n",
            "  Downloading Mako-1.3.5-py3-none-any.whl.metadata (2.9 kB)\n",
            "Requirement already satisfied: typing-extensions>=4 in /usr/local/lib/python3.10/dist-packages (from alembic>=1.5.0->optuna) (4.12.2)\n",
            "Requirement already satisfied: greenlet!=0.4.17 in /usr/local/lib/python3.10/dist-packages (from sqlalchemy>=1.3.0->optuna) (3.1.1)\n",
            "Requirement already satisfied: MarkupSafe>=0.9.2 in /usr/local/lib/python3.10/dist-packages (from Mako->alembic>=1.5.0->optuna) (3.0.1)\n",
            "Downloading optuna-4.0.0-py3-none-any.whl (362 kB)\n",
            "\u001b[2K   \u001b[90m━━━━━━━━━━━━━━━━━━━━━━━━━━━━━━━━━━━━━━━━\u001b[0m \u001b[32m362.8/362.8 kB\u001b[0m \u001b[31m8.2 MB/s\u001b[0m eta \u001b[36m0:00:00\u001b[0m\n",
            "\u001b[?25hDownloading alembic-1.13.3-py3-none-any.whl (233 kB)\n",
            "\u001b[2K   \u001b[90m━━━━━━━━━━━━━━━━━━━━━━━━━━━━━━━━━━━━━━━━\u001b[0m \u001b[32m233.2/233.2 kB\u001b[0m \u001b[31m17.5 MB/s\u001b[0m eta \u001b[36m0:00:00\u001b[0m\n",
            "\u001b[?25hDownloading colorlog-6.8.2-py3-none-any.whl (11 kB)\n",
            "Downloading Mako-1.3.5-py3-none-any.whl (78 kB)\n",
            "\u001b[2K   \u001b[90m━━━━━━━━━━━━━━━━━━━━━━━━━━━━━━━━━━━━━━━━\u001b[0m \u001b[32m78.6/78.6 kB\u001b[0m \u001b[31m5.5 MB/s\u001b[0m eta \u001b[36m0:00:00\u001b[0m\n",
            "\u001b[?25hInstalling collected packages: Mako, colorlog, alembic, optuna\n",
            "Successfully installed Mako-1.3.5 alembic-1.13.3 colorlog-6.8.2 optuna-4.0.0\n",
            "Collecting shap\n",
            "  Downloading shap-0.46.0-cp310-cp310-manylinux_2_12_x86_64.manylinux2010_x86_64.manylinux_2_17_x86_64.manylinux2014_x86_64.whl.metadata (24 kB)\n",
            "Requirement already satisfied: numpy in /usr/local/lib/python3.10/dist-packages (from shap) (1.26.4)\n",
            "Requirement already satisfied: scipy in /usr/local/lib/python3.10/dist-packages (from shap) (1.13.1)\n",
            "Requirement already satisfied: scikit-learn in /usr/local/lib/python3.10/dist-packages (from shap) (1.5.2)\n",
            "Requirement already satisfied: pandas in /usr/local/lib/python3.10/dist-packages (from shap) (2.2.2)\n",
            "Requirement already satisfied: tqdm>=4.27.0 in /usr/local/lib/python3.10/dist-packages (from shap) (4.66.5)\n",
            "Requirement already satisfied: packaging>20.9 in /usr/local/lib/python3.10/dist-packages (from shap) (24.1)\n",
            "Collecting slicer==0.0.8 (from shap)\n",
            "  Downloading slicer-0.0.8-py3-none-any.whl.metadata (4.0 kB)\n",
            "Requirement already satisfied: numba in /usr/local/lib/python3.10/dist-packages (from shap) (0.60.0)\n",
            "Requirement already satisfied: cloudpickle in /usr/local/lib/python3.10/dist-packages (from shap) (2.2.1)\n",
            "Requirement already satisfied: llvmlite<0.44,>=0.43.0dev0 in /usr/local/lib/python3.10/dist-packages (from numba->shap) (0.43.0)\n",
            "Requirement already satisfied: python-dateutil>=2.8.2 in /usr/local/lib/python3.10/dist-packages (from pandas->shap) (2.8.2)\n",
            "Requirement already satisfied: pytz>=2020.1 in /usr/local/lib/python3.10/dist-packages (from pandas->shap) (2024.2)\n",
            "Requirement already satisfied: tzdata>=2022.7 in /usr/local/lib/python3.10/dist-packages (from pandas->shap) (2024.2)\n",
            "Requirement already satisfied: joblib>=1.2.0 in /usr/local/lib/python3.10/dist-packages (from scikit-learn->shap) (1.4.2)\n",
            "Requirement already satisfied: threadpoolctl>=3.1.0 in /usr/local/lib/python3.10/dist-packages (from scikit-learn->shap) (3.5.0)\n",
            "Requirement already satisfied: six>=1.5 in /usr/local/lib/python3.10/dist-packages (from python-dateutil>=2.8.2->pandas->shap) (1.16.0)\n",
            "Downloading shap-0.46.0-cp310-cp310-manylinux_2_12_x86_64.manylinux2010_x86_64.manylinux_2_17_x86_64.manylinux2014_x86_64.whl (540 kB)\n",
            "\u001b[2K   \u001b[90m━━━━━━━━━━━━━━━━━━━━━━━━━━━━━━━━━━━━━━━━\u001b[0m \u001b[32m540.1/540.1 kB\u001b[0m \u001b[31m16.0 MB/s\u001b[0m eta \u001b[36m0:00:00\u001b[0m\n",
            "\u001b[?25hDownloading slicer-0.0.8-py3-none-any.whl (15 kB)\n",
            "Installing collected packages: slicer, shap\n",
            "Successfully installed shap-0.46.0 slicer-0.0.8\n"
          ]
        }
      ]
    },
    {
      "cell_type": "code",
      "source": [
        "import numpy as np\n",
        "import pandas as pd\n",
        "import matplotlib.pyplot as plt\n",
        "import seaborn as sns\n",
        "import warnings\n",
        "import gc\n",
        "from IPython.display import display, HTML\n",
        "\n",
        "warnings.filterwarnings('ignore')\n",
        "\n",
        "from sklearn.preprocessing import OrdinalEncoder\n",
        "from sklearn.model_selection import cross_val_score, StratifiedKFold, train_test_split\n",
        "from sklearn.metrics import roc_auc_score\n",
        "from sklearn.pipeline import Pipeline, make_pipeline\n",
        "from sklearn.base import clone\n",
        "\n",
        "from sklearn.linear_model import LogisticRegression, Ridge\n",
        "from xgboost import XGBClassifier, XGBRFClassifier, DMatrix\n",
        "from catboost import CatBoostClassifier, Pool\n",
        "from lightgbm import LGBMClassifier, early_stopping\n",
        "from sklearn.ensemble import HistGradientBoostingClassifier"
      ],
      "metadata": {
        "execution": {
          "iopub.status.busy": "2024-10-18T01:03:53.606731Z",
          "iopub.execute_input": "2024-10-18T01:03:53.60716Z",
          "iopub.status.idle": "2024-10-18T01:03:59.268744Z",
          "shell.execute_reply.started": "2024-10-18T01:03:53.607118Z",
          "shell.execute_reply": "2024-10-18T01:03:59.267483Z"
        },
        "trusted": true,
        "id": "BcmFVhW_RnH3"
      },
      "outputs": [],
      "execution_count": 11
    },
    {
      "cell_type": "code",
      "source": [
        "train_df = pd.read_csv('/kaggle/input/playground-series-s4e10/train.csv', index_col='id')\n",
        "test_df = pd.read_csv('/kaggle/input/playground-series-s4e10/test.csv', index_col='id')\n",
        "orig_df = pd.read_csv('/kaggle/input/ps4e9-original-data-loan-approval-prediction/credit_risk_dataset.csv')"
      ],
      "metadata": {
        "execution": {
          "iopub.status.busy": "2024-10-18T01:07:27.756709Z",
          "iopub.execute_input": "2024-10-18T01:07:27.757147Z",
          "iopub.status.idle": "2024-10-18T01:07:28.010726Z",
          "shell.execute_reply.started": "2024-10-18T01:07:27.757106Z",
          "shell.execute_reply": "2024-10-18T01:07:28.00954Z"
        },
        "trusted": true,
        "id": "rK8echrPRnH3",
        "outputId": "be5dee49-712f-43b7-8202-9135b20d9774",
        "colab": {
          "base_uri": "https://localhost:8080/",
          "height": 342
        }
      },
      "outputs": [
        {
          "output_type": "error",
          "ename": "FileNotFoundError",
          "evalue": "[Errno 2] No such file or directory: '/kaggle/input/playground-series-s4e10/train.csv'",
          "traceback": [
            "\u001b[0;31m---------------------------------------------------------------------------\u001b[0m",
            "\u001b[0;31mFileNotFoundError\u001b[0m                         Traceback (most recent call last)",
            "\u001b[0;32m<ipython-input-12-1c7950978bf1>\u001b[0m in \u001b[0;36m<cell line: 1>\u001b[0;34m()\u001b[0m\n\u001b[0;32m----> 1\u001b[0;31m \u001b[0mtrain_df\u001b[0m \u001b[0;34m=\u001b[0m \u001b[0mpd\u001b[0m\u001b[0;34m.\u001b[0m\u001b[0mread_csv\u001b[0m\u001b[0;34m(\u001b[0m\u001b[0;34m'/kaggle/input/playground-series-s4e10/train.csv'\u001b[0m\u001b[0;34m,\u001b[0m \u001b[0mindex_col\u001b[0m\u001b[0;34m=\u001b[0m\u001b[0;34m'id'\u001b[0m\u001b[0;34m)\u001b[0m\u001b[0;34m\u001b[0m\u001b[0;34m\u001b[0m\u001b[0m\n\u001b[0m\u001b[1;32m      2\u001b[0m \u001b[0mtest_df\u001b[0m \u001b[0;34m=\u001b[0m \u001b[0mpd\u001b[0m\u001b[0;34m.\u001b[0m\u001b[0mread_csv\u001b[0m\u001b[0;34m(\u001b[0m\u001b[0;34m'/kaggle/input/playground-series-s4e10/test.csv'\u001b[0m\u001b[0;34m,\u001b[0m \u001b[0mindex_col\u001b[0m\u001b[0;34m=\u001b[0m\u001b[0;34m'id'\u001b[0m\u001b[0;34m)\u001b[0m\u001b[0;34m\u001b[0m\u001b[0;34m\u001b[0m\u001b[0m\n\u001b[1;32m      3\u001b[0m \u001b[0morig_df\u001b[0m \u001b[0;34m=\u001b[0m \u001b[0mpd\u001b[0m\u001b[0;34m.\u001b[0m\u001b[0mread_csv\u001b[0m\u001b[0;34m(\u001b[0m\u001b[0;34m'/kaggle/input/ps4e9-original-data-loan-approval-prediction/credit_risk_dataset.csv'\u001b[0m\u001b[0;34m)\u001b[0m\u001b[0;34m\u001b[0m\u001b[0;34m\u001b[0m\u001b[0m\n",
            "\u001b[0;32m/usr/local/lib/python3.10/dist-packages/pandas/io/parsers/readers.py\u001b[0m in \u001b[0;36mread_csv\u001b[0;34m(filepath_or_buffer, sep, delimiter, header, names, index_col, usecols, dtype, engine, converters, true_values, false_values, skipinitialspace, skiprows, skipfooter, nrows, na_values, keep_default_na, na_filter, verbose, skip_blank_lines, parse_dates, infer_datetime_format, keep_date_col, date_parser, date_format, dayfirst, cache_dates, iterator, chunksize, compression, thousands, decimal, lineterminator, quotechar, quoting, doublequote, escapechar, comment, encoding, encoding_errors, dialect, on_bad_lines, delim_whitespace, low_memory, memory_map, float_precision, storage_options, dtype_backend)\u001b[0m\n\u001b[1;32m   1024\u001b[0m     \u001b[0mkwds\u001b[0m\u001b[0;34m.\u001b[0m\u001b[0mupdate\u001b[0m\u001b[0;34m(\u001b[0m\u001b[0mkwds_defaults\u001b[0m\u001b[0;34m)\u001b[0m\u001b[0;34m\u001b[0m\u001b[0;34m\u001b[0m\u001b[0m\n\u001b[1;32m   1025\u001b[0m \u001b[0;34m\u001b[0m\u001b[0m\n\u001b[0;32m-> 1026\u001b[0;31m     \u001b[0;32mreturn\u001b[0m \u001b[0m_read\u001b[0m\u001b[0;34m(\u001b[0m\u001b[0mfilepath_or_buffer\u001b[0m\u001b[0;34m,\u001b[0m \u001b[0mkwds\u001b[0m\u001b[0;34m)\u001b[0m\u001b[0;34m\u001b[0m\u001b[0;34m\u001b[0m\u001b[0m\n\u001b[0m\u001b[1;32m   1027\u001b[0m \u001b[0;34m\u001b[0m\u001b[0m\n\u001b[1;32m   1028\u001b[0m \u001b[0;34m\u001b[0m\u001b[0m\n",
            "\u001b[0;32m/usr/local/lib/python3.10/dist-packages/pandas/io/parsers/readers.py\u001b[0m in \u001b[0;36m_read\u001b[0;34m(filepath_or_buffer, kwds)\u001b[0m\n\u001b[1;32m    618\u001b[0m \u001b[0;34m\u001b[0m\u001b[0m\n\u001b[1;32m    619\u001b[0m     \u001b[0;31m# Create the parser.\u001b[0m\u001b[0;34m\u001b[0m\u001b[0;34m\u001b[0m\u001b[0m\n\u001b[0;32m--> 620\u001b[0;31m     \u001b[0mparser\u001b[0m \u001b[0;34m=\u001b[0m \u001b[0mTextFileReader\u001b[0m\u001b[0;34m(\u001b[0m\u001b[0mfilepath_or_buffer\u001b[0m\u001b[0;34m,\u001b[0m \u001b[0;34m**\u001b[0m\u001b[0mkwds\u001b[0m\u001b[0;34m)\u001b[0m\u001b[0;34m\u001b[0m\u001b[0;34m\u001b[0m\u001b[0m\n\u001b[0m\u001b[1;32m    621\u001b[0m \u001b[0;34m\u001b[0m\u001b[0m\n\u001b[1;32m    622\u001b[0m     \u001b[0;32mif\u001b[0m \u001b[0mchunksize\u001b[0m \u001b[0;32mor\u001b[0m \u001b[0miterator\u001b[0m\u001b[0;34m:\u001b[0m\u001b[0;34m\u001b[0m\u001b[0;34m\u001b[0m\u001b[0m\n",
            "\u001b[0;32m/usr/local/lib/python3.10/dist-packages/pandas/io/parsers/readers.py\u001b[0m in \u001b[0;36m__init__\u001b[0;34m(self, f, engine, **kwds)\u001b[0m\n\u001b[1;32m   1618\u001b[0m \u001b[0;34m\u001b[0m\u001b[0m\n\u001b[1;32m   1619\u001b[0m         \u001b[0mself\u001b[0m\u001b[0;34m.\u001b[0m\u001b[0mhandles\u001b[0m\u001b[0;34m:\u001b[0m \u001b[0mIOHandles\u001b[0m \u001b[0;34m|\u001b[0m \u001b[0;32mNone\u001b[0m \u001b[0;34m=\u001b[0m \u001b[0;32mNone\u001b[0m\u001b[0;34m\u001b[0m\u001b[0;34m\u001b[0m\u001b[0m\n\u001b[0;32m-> 1620\u001b[0;31m         \u001b[0mself\u001b[0m\u001b[0;34m.\u001b[0m\u001b[0m_engine\u001b[0m \u001b[0;34m=\u001b[0m \u001b[0mself\u001b[0m\u001b[0;34m.\u001b[0m\u001b[0m_make_engine\u001b[0m\u001b[0;34m(\u001b[0m\u001b[0mf\u001b[0m\u001b[0;34m,\u001b[0m \u001b[0mself\u001b[0m\u001b[0;34m.\u001b[0m\u001b[0mengine\u001b[0m\u001b[0;34m)\u001b[0m\u001b[0;34m\u001b[0m\u001b[0;34m\u001b[0m\u001b[0m\n\u001b[0m\u001b[1;32m   1621\u001b[0m \u001b[0;34m\u001b[0m\u001b[0m\n\u001b[1;32m   1622\u001b[0m     \u001b[0;32mdef\u001b[0m \u001b[0mclose\u001b[0m\u001b[0;34m(\u001b[0m\u001b[0mself\u001b[0m\u001b[0;34m)\u001b[0m \u001b[0;34m->\u001b[0m \u001b[0;32mNone\u001b[0m\u001b[0;34m:\u001b[0m\u001b[0;34m\u001b[0m\u001b[0;34m\u001b[0m\u001b[0m\n",
            "\u001b[0;32m/usr/local/lib/python3.10/dist-packages/pandas/io/parsers/readers.py\u001b[0m in \u001b[0;36m_make_engine\u001b[0;34m(self, f, engine)\u001b[0m\n\u001b[1;32m   1878\u001b[0m                 \u001b[0;32mif\u001b[0m \u001b[0;34m\"b\"\u001b[0m \u001b[0;32mnot\u001b[0m \u001b[0;32min\u001b[0m \u001b[0mmode\u001b[0m\u001b[0;34m:\u001b[0m\u001b[0;34m\u001b[0m\u001b[0;34m\u001b[0m\u001b[0m\n\u001b[1;32m   1879\u001b[0m                     \u001b[0mmode\u001b[0m \u001b[0;34m+=\u001b[0m \u001b[0;34m\"b\"\u001b[0m\u001b[0;34m\u001b[0m\u001b[0;34m\u001b[0m\u001b[0m\n\u001b[0;32m-> 1880\u001b[0;31m             self.handles = get_handle(\n\u001b[0m\u001b[1;32m   1881\u001b[0m                 \u001b[0mf\u001b[0m\u001b[0;34m,\u001b[0m\u001b[0;34m\u001b[0m\u001b[0;34m\u001b[0m\u001b[0m\n\u001b[1;32m   1882\u001b[0m                 \u001b[0mmode\u001b[0m\u001b[0;34m,\u001b[0m\u001b[0;34m\u001b[0m\u001b[0;34m\u001b[0m\u001b[0m\n",
            "\u001b[0;32m/usr/local/lib/python3.10/dist-packages/pandas/io/common.py\u001b[0m in \u001b[0;36mget_handle\u001b[0;34m(path_or_buf, mode, encoding, compression, memory_map, is_text, errors, storage_options)\u001b[0m\n\u001b[1;32m    871\u001b[0m         \u001b[0;32mif\u001b[0m \u001b[0mioargs\u001b[0m\u001b[0;34m.\u001b[0m\u001b[0mencoding\u001b[0m \u001b[0;32mand\u001b[0m \u001b[0;34m\"b\"\u001b[0m \u001b[0;32mnot\u001b[0m \u001b[0;32min\u001b[0m \u001b[0mioargs\u001b[0m\u001b[0;34m.\u001b[0m\u001b[0mmode\u001b[0m\u001b[0;34m:\u001b[0m\u001b[0;34m\u001b[0m\u001b[0;34m\u001b[0m\u001b[0m\n\u001b[1;32m    872\u001b[0m             \u001b[0;31m# Encoding\u001b[0m\u001b[0;34m\u001b[0m\u001b[0;34m\u001b[0m\u001b[0m\n\u001b[0;32m--> 873\u001b[0;31m             handle = open(\n\u001b[0m\u001b[1;32m    874\u001b[0m                 \u001b[0mhandle\u001b[0m\u001b[0;34m,\u001b[0m\u001b[0;34m\u001b[0m\u001b[0;34m\u001b[0m\u001b[0m\n\u001b[1;32m    875\u001b[0m                 \u001b[0mioargs\u001b[0m\u001b[0;34m.\u001b[0m\u001b[0mmode\u001b[0m\u001b[0;34m,\u001b[0m\u001b[0;34m\u001b[0m\u001b[0;34m\u001b[0m\u001b[0m\n",
            "\u001b[0;31mFileNotFoundError\u001b[0m: [Errno 2] No such file or directory: '/kaggle/input/playground-series-s4e10/train.csv'"
          ]
        }
      ],
      "execution_count": 12
    },
    {
      "cell_type": "code",
      "source": [
        "orig_df.index"
      ],
      "metadata": {
        "execution": {
          "iopub.status.busy": "2024-10-18T01:07:45.562098Z",
          "iopub.execute_input": "2024-10-18T01:07:45.562672Z",
          "iopub.status.idle": "2024-10-18T01:07:45.571464Z",
          "shell.execute_reply.started": "2024-10-18T01:07:45.562597Z",
          "shell.execute_reply": "2024-10-18T01:07:45.570129Z"
        },
        "trusted": true,
        "id": "9ERGBk9cRnH3",
        "outputId": "a0cc6ba6-03d1-4570-c04a-fb9adfa7d966"
      },
      "outputs": [
        {
          "execution_count": 17,
          "output_type": "execute_result",
          "data": {
            "text/plain": "RangeIndex(start=0, stop=32581, step=1)"
          },
          "metadata": {}
        }
      ],
      "execution_count": null
    },
    {
      "cell_type": "code",
      "source": [
        "train_df = pd.concat([train_df, orig_df])\n",
        "train_df = train_df.reset_index(drop=True)"
      ],
      "metadata": {
        "trusted": true,
        "execution": {
          "iopub.status.busy": "2024-10-18T01:07:22.192827Z",
          "iopub.execute_input": "2024-10-18T01:07:22.194111Z",
          "iopub.status.idle": "2024-10-18T01:07:22.24354Z",
          "shell.execute_reply.started": "2024-10-18T01:07:22.194052Z",
          "shell.execute_reply": "2024-10-18T01:07:22.242342Z"
        },
        "id": "NCcR7dHPRnH4"
      },
      "outputs": [],
      "execution_count": null
    },
    {
      "cell_type": "code",
      "source": [
        "train_df.index;\n",
        "train_df.head();\n",
        "test"
      ],
      "metadata": {
        "execution": {
          "iopub.status.busy": "2024-10-18T01:08:45.221324Z",
          "iopub.execute_input": "2024-10-18T01:08:45.221812Z",
          "iopub.status.idle": "2024-10-18T01:08:45.242834Z",
          "shell.execute_reply.started": "2024-10-18T01:08:45.221768Z",
          "shell.execute_reply": "2024-10-18T01:08:45.241581Z"
        },
        "trusted": true,
        "id": "ynTweL6PRnH4",
        "outputId": "ec0d29fa-324e-4591-fae0-a5de4d689a1b"
      },
      "outputs": [
        {
          "execution_count": 19,
          "output_type": "execute_result",
          "data": {
            "text/plain": "    person_age  person_income person_home_ownership  person_emp_length  \\\nid                                                                       \n0           37          35000                  RENT                0.0   \n1           22          56000                   OWN                6.0   \n2           29          28800                   OWN                8.0   \n3           30          70000                  RENT               14.0   \n4           22          60000                  RENT                2.0   \n\n   loan_intent loan_grade  loan_amnt  loan_int_rate  loan_percent_income  \\\nid                                                                         \n0    EDUCATION          B       6000          11.49                 0.17   \n1      MEDICAL          C       4000          13.35                 0.07   \n2     PERSONAL          A       6000           8.90                 0.21   \n3      VENTURE          B      12000          11.11                 0.17   \n4      MEDICAL          A       6000           6.92                 0.10   \n\n   cb_person_default_on_file  cb_person_cred_hist_length  loan_status  \nid                                                                     \n0                          N                          14            0  \n1                          N                           2            0  \n2                          N                          10            0  \n3                          N                           5            0  \n4                          N                           3            0  ",
            "text/html": "<div>\n<style scoped>\n    .dataframe tbody tr th:only-of-type {\n        vertical-align: middle;\n    }\n\n    .dataframe tbody tr th {\n        vertical-align: top;\n    }\n\n    .dataframe thead th {\n        text-align: right;\n    }\n</style>\n<table border=\"1\" class=\"dataframe\">\n  <thead>\n    <tr style=\"text-align: right;\">\n      <th></th>\n      <th>person_age</th>\n      <th>person_income</th>\n      <th>person_home_ownership</th>\n      <th>person_emp_length</th>\n      <th>loan_intent</th>\n      <th>loan_grade</th>\n      <th>loan_amnt</th>\n      <th>loan_int_rate</th>\n      <th>loan_percent_income</th>\n      <th>cb_person_default_on_file</th>\n      <th>cb_person_cred_hist_length</th>\n      <th>loan_status</th>\n    </tr>\n    <tr>\n      <th>id</th>\n      <th></th>\n      <th></th>\n      <th></th>\n      <th></th>\n      <th></th>\n      <th></th>\n      <th></th>\n      <th></th>\n      <th></th>\n      <th></th>\n      <th></th>\n      <th></th>\n    </tr>\n  </thead>\n  <tbody>\n    <tr>\n      <th>0</th>\n      <td>37</td>\n      <td>35000</td>\n      <td>RENT</td>\n      <td>0.0</td>\n      <td>EDUCATION</td>\n      <td>B</td>\n      <td>6000</td>\n      <td>11.49</td>\n      <td>0.17</td>\n      <td>N</td>\n      <td>14</td>\n      <td>0</td>\n    </tr>\n    <tr>\n      <th>1</th>\n      <td>22</td>\n      <td>56000</td>\n      <td>OWN</td>\n      <td>6.0</td>\n      <td>MEDICAL</td>\n      <td>C</td>\n      <td>4000</td>\n      <td>13.35</td>\n      <td>0.07</td>\n      <td>N</td>\n      <td>2</td>\n      <td>0</td>\n    </tr>\n    <tr>\n      <th>2</th>\n      <td>29</td>\n      <td>28800</td>\n      <td>OWN</td>\n      <td>8.0</td>\n      <td>PERSONAL</td>\n      <td>A</td>\n      <td>6000</td>\n      <td>8.90</td>\n      <td>0.21</td>\n      <td>N</td>\n      <td>10</td>\n      <td>0</td>\n    </tr>\n    <tr>\n      <th>3</th>\n      <td>30</td>\n      <td>70000</td>\n      <td>RENT</td>\n      <td>14.0</td>\n      <td>VENTURE</td>\n      <td>B</td>\n      <td>12000</td>\n      <td>11.11</td>\n      <td>0.17</td>\n      <td>N</td>\n      <td>5</td>\n      <td>0</td>\n    </tr>\n    <tr>\n      <th>4</th>\n      <td>22</td>\n      <td>60000</td>\n      <td>RENT</td>\n      <td>2.0</td>\n      <td>MEDICAL</td>\n      <td>A</td>\n      <td>6000</td>\n      <td>6.92</td>\n      <td>0.10</td>\n      <td>N</td>\n      <td>3</td>\n      <td>0</td>\n    </tr>\n  </tbody>\n</table>\n</div>"
          },
          "metadata": {}
        }
      ],
      "execution_count": null
    },
    {
      "cell_type": "markdown",
      "source": [
        "# EDA\n",
        "#### Competition vs. Original\n",
        "First, let's see if orignal and competition data differ in distribution."
      ],
      "metadata": {
        "id": "MXfprMkURnH4"
      }
    },
    {
      "cell_type": "code",
      "source": [
        "f, (ax1, ax2) = plt.subplots(1, 2)\n",
        "f.set_figheight(5)\n",
        "f.set_figwidth(12)\n",
        "\n",
        "colors = ['green', 'grey']\n",
        "ax1.pie(train.loan_status.value_counts(), labels=train.loan_status.value_counts().index, autopct=\"%.0f%%\", colors=colors)\n",
        "ax1.set_title('Competition Target distribution')\n",
        "\n",
        "ax2.pie(original.loan_status.value_counts(), labels=original.loan_status.value_counts().index, autopct=\"%.0f%%\", colors=colors)\n",
        "ax2.set_title('Original Target distribution')\n",
        "\n",
        "plt.show()"
      ],
      "metadata": {
        "execution": {
          "iopub.status.busy": "2024-10-17T01:12:24.073212Z",
          "iopub.execute_input": "2024-10-17T01:12:24.073549Z",
          "iopub.status.idle": "2024-10-17T01:12:24.322411Z",
          "shell.execute_reply.started": "2024-10-17T01:12:24.073517Z",
          "shell.execute_reply": "2024-10-17T01:12:24.321032Z"
        },
        "trusted": true,
        "id": "QScVO6zuRnH5"
      },
      "outputs": [],
      "execution_count": null
    },
    {
      "cell_type": "markdown",
      "source": [
        "#### Adversarial validation\n",
        "\n",
        "I take the code for adversarial validation from the Kaggle Book: https://github.com/PacktPublishing/The-Kaggle-Book/blob/main/chapter_06/adversarial-validation-example.ipynb"
      ],
      "metadata": {
        "id": "t2_k0oNNRnH5"
      }
    },
    {
      "cell_type": "code",
      "source": [
        "from sklearn.ensemble import RandomForestClassifier\n",
        "from sklearn.model_selection import cross_val_predict\n",
        "from sklearn.metrics import roc_auc_score\n",
        "import warnings\n",
        "warnings.filterwarnings(\"ignore\")\n",
        "\n",
        "X =  pd.concat([train, original], axis=0)\n",
        "y = [0] * len(train) + [1] * len(original)\n",
        "\n",
        "X['person_home_ownership'].replace({'RENT': 0, 'MORTGAGE': 1, 'OWN': 2, 'OTHER': 3}, inplace=True)\n",
        "X['loan_intent'].replace({'EDUCATION': 0, 'MEDICAL': 1, 'PERSONAL': 2, 'VENTURE': 3, 'DEBTCONSOLIDATION': 4, 'HOMEIMPROVEMENT': 5}, inplace=True)\n",
        "X['loan_grade'].replace({'A': 0, 'B': 1, 'C': 2, 'D': 3, 'E': 4, 'F': 5, 'G': 6}, inplace=True)\n",
        "X['cb_person_default_on_file'].replace({'N': 0, 'Y': 1}, inplace=True)\n",
        "X['person_emp_length'] = X['person_emp_length'].fillna(original['person_emp_length'].mean())\n",
        "X['person_emp_length'] = X['person_emp_length'].astype(int)\n",
        "X['loan_int_rate'] = X['loan_int_rate'].fillna(original['loan_int_rate'].mean())\n",
        "X['loan_int_rate'] = (X['loan_int_rate'] * 100).astype(int)\n",
        "X['loan_percent_income'] = (X['loan_percent_income'] * 100).astype(int)\n",
        "\n",
        "model = RandomForestClassifier(random_state=0)\n",
        "cv_preds = cross_val_predict(model, X, y, cv=5, n_jobs=-1, method='predict_proba')\n",
        "\n",
        "score = roc_auc_score(y_true=y, y_score=cv_preds[:,1])\n",
        "print(f\"roc-auc score: {score:0.3f}\")"
      ],
      "metadata": {
        "execution": {
          "iopub.status.busy": "2024-10-17T01:12:24.324163Z",
          "iopub.execute_input": "2024-10-17T01:12:24.325885Z",
          "iopub.status.idle": "2024-10-17T01:12:57.491178Z",
          "shell.execute_reply.started": "2024-10-17T01:12:24.325819Z",
          "shell.execute_reply": "2024-10-17T01:12:57.490166Z"
        },
        "trusted": true,
        "id": "uyIZqyutRnH6"
      },
      "outputs": [],
      "execution_count": null
    },
    {
      "cell_type": "markdown",
      "source": [
        "Both Target distibution and adversarial validation (roc-auc not around ~0.5) show difference in distributions. Hence, it's doubtful, whether original data should be added."
      ],
      "metadata": {
        "id": "7POJD1evRnH6"
      }
    },
    {
      "cell_type": "markdown",
      "source": [
        "#### Train, Test feature distribution comparison"
      ],
      "metadata": {
        "id": "FXt4bEkeRnH6"
      }
    },
    {
      "cell_type": "code",
      "source": [
        "num_cols = ['person_age', 'person_income', 'person_emp_length', 'loan_amnt', 'loan_int_rate', 'loan_percent_income', 'cb_person_cred_hist_length']\n",
        "def plot_distribution_pairs(train, test, feature, hue=\"set\", palette=None):\n",
        "    data_df = train.copy()\n",
        "    data_df['set'] = 'train'\n",
        "    data_df = pd.concat([data_df, test.copy()]).fillna('test')\n",
        "\n",
        "    f, axes = plt.subplots(1, 2, figsize=(14, 6))\n",
        "    for i, s in enumerate(data_df[hue].unique()):\n",
        "        selection = data_df.loc[data_df[hue]==s, feature]\n",
        "        # Filter 'selection' to include only the central 95% of the data\n",
        "        q_025, q_975 = np.percentile(selection, [2.5, 97.5])\n",
        "        selection_filtered = selection[(selection >= q_025) & (selection <= q_975)]\n",
        "        with warnings.catch_warnings():\n",
        "            warnings.simplefilter(\"ignore\", category=FutureWarning)\n",
        "            sns.histplot(selection_filtered, color=palette[i], ax=axes[0], label=s)\n",
        "            sns.boxplot(x=hue, y=feature, data=data_df, palette=palette, ax=axes[1])\n",
        "    axes[0].set_title(f\"Paired train/test distributions of {feature}\")\n",
        "    axes[1].set_title(f\"Paired train/test boxplots of {feature}\")\n",
        "    axes[0].legend()\n",
        "    axes[1].legend()\n",
        "    plt.show()\n",
        "\n",
        "color_list = [\"#A5D7E8\", \"#576CBC\", \"#19376D\", \"#0B2447\"]\n",
        "for feature in num_cols:\n",
        "    plot_distribution_pairs(train, test, feature, palette=color_list)"
      ],
      "metadata": {
        "execution": {
          "iopub.status.busy": "2024-10-17T01:12:57.492418Z",
          "iopub.execute_input": "2024-10-17T01:12:57.492701Z",
          "iopub.status.idle": "2024-10-17T01:13:05.242893Z",
          "shell.execute_reply.started": "2024-10-17T01:12:57.492671Z",
          "shell.execute_reply": "2024-10-17T01:13:05.241951Z"
        },
        "trusted": true,
        "id": "SrYpOgqxRnH6"
      },
      "outputs": [],
      "execution_count": null
    },
    {
      "cell_type": "code",
      "source": [
        "X =  pd.concat([train.drop('loan_status', axis=1), test], axis=0)\n",
        "y = [0] * len(train) + [1] * len(test)\n",
        "\n",
        "X['person_home_ownership'].replace({'RENT': 0, 'MORTGAGE': 1, 'OWN': 2, 'OTHER': 3}, inplace=True)\n",
        "X['loan_intent'].replace({'EDUCATION': 0, 'MEDICAL': 1, 'PERSONAL': 2, 'VENTURE': 3, 'DEBTCONSOLIDATION': 4, 'HOMEIMPROVEMENT': 5}, inplace=True)\n",
        "X['loan_grade'].replace({'A': 0, 'B': 1, 'C': 2, 'D': 3, 'E': 4, 'F': 5, 'G': 6}, inplace=True)\n",
        "X['cb_person_default_on_file'].replace({'N': 0, 'Y': 1}, inplace=True)\n",
        "X['person_emp_length'] = X['person_emp_length'].astype(int)\n",
        "X['loan_int_rate'] = (X['loan_int_rate'] * 100).astype(int)\n",
        "X['loan_percent_income'] = (X['loan_percent_income'] * 100).astype(int)\n",
        "\n",
        "model = RandomForestClassifier(random_state=0)\n",
        "cv_preds = cross_val_predict(model, X, y, cv=5, n_jobs=-1, method='predict_proba')\n",
        "\n",
        "score = roc_auc_score(y_true=y, y_score=cv_preds[:,1])\n",
        "print(f\"roc-auc score: {score:0.3f}\")"
      ],
      "metadata": {
        "execution": {
          "iopub.status.busy": "2024-10-17T01:13:05.244132Z",
          "iopub.execute_input": "2024-10-17T01:13:05.24448Z",
          "iopub.status.idle": "2024-10-17T01:13:50.299952Z",
          "shell.execute_reply.started": "2024-10-17T01:13:05.244446Z",
          "shell.execute_reply": "2024-10-17T01:13:50.298989Z"
        },
        "trusted": true,
        "id": "Ory_YoRVRnH6"
      },
      "outputs": [],
      "execution_count": null
    },
    {
      "cell_type": "markdown",
      "source": [
        "Conclusion: train and test distributions are very close, which is proved both by visualisations and adversarial validation."
      ],
      "metadata": {
        "id": "ImgbJ7uORnH7"
      }
    },
    {
      "cell_type": "markdown",
      "source": [
        "# Data preprocessing"
      ],
      "metadata": {
        "id": "BD-9x1bWRnH7"
      }
    },
    {
      "cell_type": "code",
      "source": [
        "X = pd.concat([train, original], ignore_index=True)\n",
        "X = X.fillna('None')\n",
        "def preprocess(df):\n",
        "    df['loan_to_income'] = ((df['loan_amnt'] / df['person_income'])).astype('string').astype('category')\n",
        "    df['age_income_interaction'] = (df['person_age'] * df['person_income']).astype('string').astype('category')\n",
        "    df['loan_to_emp_length_ratio'] = (df['loan_amnt'] / df['person_emp_length'].replace({'None': original['person_emp_length'].mean()}).astype('float')).astype('string').astype('category')\n",
        "    monthly_income = df['person_income'] / 12\n",
        "    df['monthly_debt'] = (df['loan_amnt'] * (1 + df['loan_int_rate'].replace({'None': original['loan_int_rate'].mean()}).astype(float)) / 12)\n",
        "    df['dti_ratio'] = (df['monthly_debt'] / monthly_income).astype('string').astype('category')\n",
        "    df['monthly_debt'] = df['monthly_debt'].astype('string').astype('category')\n",
        "    df['risk_flag'] = (np.where((df['cb_person_default_on_file'] == 'Y') & (df['loan_grade'].isin(['C', 'D', 'E'])), 1, 0))\n",
        "    df['risk_flag'] = df['risk_flag'].astype('category')\n",
        "    df['person_home_ownership'] = df['person_home_ownership'].astype('category')\n",
        "    df['loan_intent'] = df['loan_intent'].astype('category')\n",
        "    df['loan_grade'] = df['loan_grade'].astype('category')\n",
        "    df['cb_person_default_on_file'] = df['cb_person_default_on_file'].astype('category')\n",
        "    df['person_emp_length'] = df['person_emp_length'].astype('string').astype('category')\n",
        "    df['loan_int_rate'] = (df['loan_int_rate'].replace({'None': original['loan_int_rate'].mean()}).astype(float) * 100).astype('string').astype('category')\n",
        "    df['loan_percent_income'] = (df['loan_percent_income'].astype(float) * 100).astype('string').astype('category')\n",
        "\n",
        "\n",
        "preprocess(test)\n",
        "preprocess(X)\n",
        "y = X.pop('loan_status')\n",
        "\n",
        "X.head()\n",
        "# y = df['loan_status']\n",
        "# X = df.drop('loan_status', axis=1)"
      ],
      "metadata": {
        "execution": {
          "iopub.status.busy": "2024-10-17T01:34:15.10278Z",
          "iopub.execute_input": "2024-10-17T01:34:15.103182Z",
          "iopub.status.idle": "2024-10-17T01:34:16.641473Z",
          "shell.execute_reply.started": "2024-10-17T01:34:15.103145Z",
          "shell.execute_reply": "2024-10-17T01:34:16.640439Z"
        },
        "trusted": true,
        "id": "MDtkHydaRnH7"
      },
      "outputs": [],
      "execution_count": null
    },
    {
      "cell_type": "markdown",
      "source": [
        "# Model"
      ],
      "metadata": {
        "id": "1CsqelA8RnH7"
      }
    },
    {
      "cell_type": "code",
      "source": [
        "import optuna\n",
        "from optuna.samplers import TPESampler\n",
        "\n",
        "# Using optuna to tune hyperparameters a little bit\n",
        "def objective(trial):\n",
        "    params = {\n",
        "    'loss_function': 'Logloss',\n",
        "    'eval_metric': 'AUC',\n",
        "    'learning_rate': trial.suggest_float('learning_rate', 0.01, 0.3, log=True),\n",
        "    'iterations': 1000,\n",
        "    'depth': trial.suggest_int('depth', 6, 12),\n",
        "    'random_strength':0,\n",
        "    'l2_leaf_reg': trial.suggest_float('l2_leaf_reg', 1e-1, 1.0, log=True),\n",
        "    'task_type':'GPU',\n",
        "    'random_seed':42,\n",
        "    'verbose':False\n",
        "    }\n",
        "\n",
        "    model = CatBoostClassifier(**params)\n",
        "    cv = StratifiedKFold(5, shuffle=True, random_state=0)\n",
        "    cv_splits = cv.split(X, y)\n",
        "    scores = list()\n",
        "    for train_idx, val_idx in cv_splits:\n",
        "        X_train_fold, X_val_fold = X.loc[train_idx], X.loc[val_idx]\n",
        "        y_train_fold, y_val_fold = y.loc[train_idx], y.loc[val_idx]\n",
        "        X_train_pool = Pool(X_train_fold, y_train_fold, cat_features=X.columns.values)\n",
        "        X_valid_pool = Pool(X_val_fold, y_val_fold, cat_features=X.columns.values)\n",
        "        model.fit(X=X_train_pool, eval_set=X_valid_pool, verbose=False, early_stopping_rounds=200)\n",
        "        val_pred = model.predict_proba(X_valid_pool)[:, 1]\n",
        "        score = roc_auc_score(y_val_fold, val_pred)\n",
        "        scores.append(score)\n",
        "    return np.mean(scores)\n",
        "\n",
        "sqlite_db = \"sqlite:///catboost.db\"\n",
        "study_name = \"catboost\"\n",
        "optimize = False\n",
        "if optimize:\n",
        "    study = optuna.create_study(storage=sqlite_db, study_name=study_name,\n",
        "                                sampler=TPESampler(n_startup_trials=35, multivariate=True, seed=0),\n",
        "                                direction=\"maximize\", load_if_exists=True)\n",
        "\n",
        "    study.optimize(objective, n_trials=100)\n",
        "    print(f\"best optimized roc-auc: {study.best_value:0.5f}\") # 0.96664\n",
        "    print(f\"best hyperparameters: {study.best_params}\")\n",
        "    catboost_params = study.best_params\n",
        "else:\n",
        "    catboost_params = {\n",
        "        'loss_function': 'Logloss',\n",
        "        'eval_metric': 'AUC',\n",
        "        'learning_rate': 0.08114394459649094,\n",
        "        'iterations': 1000,\n",
        "        'depth': 6,\n",
        "        'random_strength':0,\n",
        "        'l2_leaf_reg': 0.7047064221215757,\n",
        "        'task_type':'GPU',\n",
        "        'random_seed':42,\n",
        "        'verbose':False\n",
        "    }"
      ],
      "metadata": {
        "execution": {
          "iopub.status.busy": "2024-10-17T01:59:14.908279Z",
          "iopub.execute_input": "2024-10-17T01:59:14.909159Z",
          "iopub.status.idle": "2024-10-17T01:59:14.921713Z",
          "shell.execute_reply.started": "2024-10-17T01:59:14.90912Z",
          "shell.execute_reply": "2024-10-17T01:59:14.920702Z"
        },
        "trusted": true,
        "id": "9rsZYAE5RnH7"
      },
      "outputs": [],
      "execution_count": null
    },
    {
      "cell_type": "markdown",
      "source": [
        "The TPESampler is set to first try random optimization for the first 35 trials and then perform a TPE Bayesian Search. I also use the multivariate approach, which is reported to outperform the independent TPE."
      ],
      "metadata": {
        "id": "u5PELdqpRnH7"
      }
    },
    {
      "cell_type": "code",
      "source": [
        "from sklearn.model_selection import StratifiedKFold\n",
        "from catboost import Pool, CatBoostClassifier\n",
        "\n",
        "cv = StratifiedKFold(5, shuffle=True, random_state=0)\n",
        "cv_splits = cv.split(X, y)\n",
        "scores = []\n",
        "test_preds = []\n",
        "X_test_pool = Pool(test, cat_features=X.columns.values)\n",
        "for i, (train_idx, val_idx) in enumerate(cv_splits):\n",
        "    model = CatBoostClassifier(**catboost_params)\n",
        "    X_train_fold, X_val_fold = X.loc[train_idx], X.loc[val_idx]\n",
        "    y_train_fold, y_val_fold = y.loc[train_idx], y.loc[val_idx]\n",
        "    X_train_pool = Pool(X_train_fold, y_train_fold, cat_features=X.columns.values)\n",
        "    X_valid_pool = Pool(X_val_fold, y_val_fold, cat_features=X.columns.values)\n",
        "    model.fit(X=X_train_pool, eval_set=X_valid_pool, verbose=False, early_stopping_rounds=200)\n",
        "    val_pred = model.predict_proba(X_valid_pool)[:, 1]\n",
        "    score = roc_auc_score(y_val_fold, val_pred)\n",
        "    scores.append(score)\n",
        "    test_pred = model.predict_proba(X_test_pool)[:, 1]\n",
        "    test_preds.append(test_pred)\n",
        "    print(f'Fold {i + 1} roc_auc_score: {score}')\n",
        "print(f'Cross-validated roc_auc_score: {np.mean(scores):.3f} +/- {np.std(scores):.3f}')\n",
        "print(f'Max roc_auc_score score: {np.max(scores):.3f}')\n",
        "print(f'Min roc_auc_score score: {np.min(scores):.3f}')"
      ],
      "metadata": {
        "execution": {
          "iopub.status.busy": "2024-10-17T01:34:21.554709Z",
          "iopub.execute_input": "2024-10-17T01:34:21.555609Z",
          "iopub.status.idle": "2024-10-17T01:37:17.757885Z",
          "shell.execute_reply.started": "2024-10-17T01:34:21.555566Z",
          "shell.execute_reply": "2024-10-17T01:37:17.756653Z"
        },
        "trusted": true,
        "id": "SWSevTUrRnH7"
      },
      "outputs": [],
      "execution_count": null
    },
    {
      "cell_type": "markdown",
      "source": [
        "# Explainability\n",
        "To understand how the model actually works, the Catboost model itself is used to calculate SHAP (SHapley Additive exPlanations) values for each feature in the training data. The SHAP values are obtained by using **shap.TreeExplainer**. Then we create a summary plot visualizing the impact of different features on the model predictions and a violin plot, where each violin represents the distribution of SHAP values for a specific feature."
      ],
      "metadata": {
        "id": "fxlQiC2ARnH7"
      }
    },
    {
      "cell_type": "code",
      "source": [
        "import shap\n",
        "explainer = shap.TreeExplainer(model)\n",
        "shap_values = explainer.shap_values(X_train_pool)"
      ],
      "metadata": {
        "execution": {
          "iopub.status.busy": "2024-10-17T01:39:57.076529Z",
          "iopub.execute_input": "2024-10-17T01:39:57.077957Z",
          "iopub.status.idle": "2024-10-17T01:40:06.04294Z",
          "shell.execute_reply.started": "2024-10-17T01:39:57.077912Z",
          "shell.execute_reply": "2024-10-17T01:40:06.041891Z"
        },
        "trusted": true,
        "id": "SKCBle-LRnH7"
      },
      "outputs": [],
      "execution_count": null
    },
    {
      "cell_type": "code",
      "source": [
        "shap.summary_plot(\n",
        "    shap_values,\n",
        "    X,\n",
        "    plot_type=\"bar\",\n",
        "    class_names=np.unique(y),\n",
        "    color='purple',\n",
        "    show=False\n",
        ")\n",
        "plt.xticks(fontsize=14)\n",
        "plt.yticks(fontsize=14)\n",
        "plt.xlabel('Mean Absolute SHAP Value', fontsize=14)\n",
        "plt.title('Feature Importance by SHAP Values', fontsize=16)\n",
        "plt.grid(visible=True, which='both', linestyle='--', linewidth=0.5)\n",
        "plt.show()"
      ],
      "metadata": {
        "execution": {
          "iopub.status.busy": "2024-10-17T01:40:40.692619Z",
          "iopub.execute_input": "2024-10-17T01:40:40.693164Z",
          "iopub.status.idle": "2024-10-17T01:40:41.319101Z",
          "shell.execute_reply.started": "2024-10-17T01:40:40.693112Z",
          "shell.execute_reply": "2024-10-17T01:40:41.318173Z"
        },
        "trusted": true,
        "id": "p_52zJA_RnH8"
      },
      "outputs": [],
      "execution_count": null
    },
    {
      "cell_type": "code",
      "source": [
        "shap.summary_plot(shap_values, X.columns, plot_type=\"violin\", show=False)\n",
        "plt.xticks(fontsize=12)\n",
        "plt.yticks(fontsize=12)\n",
        "plt.title('Feature Importance Distribution by SHAP Values', fontsize=14)\n",
        "plt.grid(visible=True, which='both', linestyle='--', linewidth=0.5)\n",
        "plt.show()"
      ],
      "metadata": {
        "execution": {
          "iopub.status.busy": "2024-10-17T01:41:03.025416Z",
          "iopub.execute_input": "2024-10-17T01:41:03.026086Z",
          "iopub.status.idle": "2024-10-17T01:41:09.343011Z",
          "shell.execute_reply.started": "2024-10-17T01:41:03.026045Z",
          "shell.execute_reply": "2024-10-17T01:41:09.342072Z"
        },
        "trusted": true,
        "id": "V0Ub83BnRnH9"
      },
      "outputs": [],
      "execution_count": null
    },
    {
      "cell_type": "markdown",
      "source": [
        "# train_df.indexSubmission"
      ],
      "metadata": {
        "id": "6zyYiOaDRnH9"
      }
    },
    {
      "cell_type": "code",
      "source": [
        "sample_submission = pd.read_csv('/kaggle/input/playground-series-s4e10/sample_submission.csv')\n",
        "sample_submission['loan_status'] = np.mean(test_preds, axis=0)\n",
        "sample_submission.to_csv('submission.csv', index=False)\n",
        "sample_submission.head(10)"
      ],
      "metadata": {
        "execution": {
          "iopub.status.busy": "2024-10-17T01:41:18.485559Z",
          "iopub.execute_input": "2024-10-17T01:41:18.486327Z",
          "iopub.status.idle": "2024-10-17T01:41:18.621356Z",
          "shell.execute_reply.started": "2024-10-17T01:41:18.486276Z",
          "shell.execute_reply": "2024-10-17T01:41:18.620389Z"
        },
        "trusted": true,
        "id": "SaBiYfK-RnH9"
      },
      "outputs": [],
      "execution_count": null
    }
  ]
}