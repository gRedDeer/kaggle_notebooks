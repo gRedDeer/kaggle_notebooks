{
  "nbformat": 4,
  "nbformat_minor": 0,
  "metadata": {
    "colab": {
      "provenance": [],
      "mount_file_id": "1YvE1PbupiFlTCa2bHtn9tXHAFeMCCJlD",
      "authorship_tag": "ABX9TyPRVPSrVyeA9K5q4W6+JnGI",
      "include_colab_link": true
    },
    "kernelspec": {
      "name": "python3",
      "display_name": "Python 3"
    },
    "language_info": {
      "name": "python"
    }
  },
  "cells": [
    {
      "cell_type": "markdown",
      "metadata": {
        "id": "view-in-github",
        "colab_type": "text"
      },
      "source": [
        "<a href=\"https://colab.research.google.com/github/gRedDeer/kaggle_notebooks/blob/main/Mnist_digit_cnn_fn.ipynb\" target=\"_parent\"><img src=\"https://colab.research.google.com/assets/colab-badge.svg\" alt=\"Open In Colab\"/></a>"
      ]
    },
    {
      "cell_type": "code",
      "source": [
        "import kagglehub\n",
        "import os\n",
        "from google.colab import drive\n",
        "drive.mount('/content/drive')\n",
        "os.environ['KAGGLE_CONFIG_DIR'] = \"/content/drive/MyDrive/Kaggle\"\n",
        "#!kaggle datasets list\n",
        "#!mkdir -p /content/drive/MyDrive/Kaggle/digit-recognizer\n",
        "%cd /content/drive/MyDrive/Kaggle/\n",
        "#kaggle competitions download -c digit-recognizer\n",
        "#cp digit-recognize.zip /digit-recognizer/\n",
        "\n",
        "#unzip -q digit-recognizer/digit-recognizer.zip\n",
        "os.listdir()"
      ],
      "metadata": {
        "colab": {
          "base_uri": "https://localhost:8080/"
        },
        "id": "aa6eLZrdrdRA",
        "outputId": "185b61cd-aa94-4723-e32e-00223ca5ee91"
      },
      "execution_count": 1,
      "outputs": [
        {
          "output_type": "stream",
          "name": "stdout",
          "text": [
            "Drive already mounted at /content/drive; to attempt to forcibly remount, call drive.mount(\"/content/drive\", force_remount=True).\n",
            "/content/drive/MyDrive/Kaggle\n"
          ]
        },
        {
          "output_type": "execute_result",
          "data": {
            "text/plain": [
              "['Loan Approval Prediction',\n",
              " '.ipynb_checkpoints',\n",
              " 'kaggle.json',\n",
              " 'config.txt',\n",
              " 'digit-recognizer']"
            ]
          },
          "metadata": {},
          "execution_count": 1
        }
      ]
    },
    {
      "cell_type": "code",
      "source": [
        "import numpy as np # linear algebra\n",
        "import pandas as pd # data processing, CSV file I/O (e.g. pd.read_csv)\n",
        "import matplotlib.pyplot as plt\n",
        "%matplotlib inline"
      ],
      "metadata": {
        "id": "2vhKpBlcf9JB"
      },
      "execution_count": 2,
      "outputs": []
    },
    {
      "cell_type": "code",
      "source": [
        "pwd"
      ],
      "metadata": {
        "colab": {
          "base_uri": "https://localhost:8080/",
          "height": 35
        },
        "id": "9wfHrSOWgKh8",
        "outputId": "6d52a86a-93de-47df-966d-73669bd1d72b"
      },
      "execution_count": 3,
      "outputs": [
        {
          "output_type": "execute_result",
          "data": {
            "text/plain": [
              "'/content/drive/MyDrive/Kaggle'"
            ],
            "application/vnd.google.colaboratory.intrinsic+json": {
              "type": "string"
            }
          },
          "metadata": {},
          "execution_count": 3
        }
      ]
    },
    {
      "cell_type": "code",
      "source": [
        "# Read the data\n",
        "train_data = pd.read_csv('digit-recognizer/train.csv')\n",
        "test_data = pd.read_csv(\"digit-recognizer/test.csv\")"
      ],
      "metadata": {
        "id": "dGcZI5AtgTmP"
      },
      "execution_count": 4,
      "outputs": []
    },
    {
      "cell_type": "code",
      "source": [
        "train_data.shape, test_data.shape"
      ],
      "metadata": {
        "colab": {
          "base_uri": "https://localhost:8080/"
        },
        "id": "iwaI3NSmgziL",
        "outputId": "9f5d2122-c214-4c15-a94f-5d8fb3d1d9d0"
      },
      "execution_count": 5,
      "outputs": [
        {
          "output_type": "execute_result",
          "data": {
            "text/plain": [
              "((42000, 785), (28000, 784))"
            ]
          },
          "metadata": {},
          "execution_count": 5
        }
      ]
    },
    {
      "cell_type": "code",
      "source": [
        "# Set up the data\n",
        "y_train = train_data['label'].values\n",
        "X_train = train_data.drop(columns=['label']).values/255\n",
        "X_test = test_data.values/255"
      ],
      "metadata": {
        "id": "Ml4BQWdtgbEz"
      },
      "execution_count": 6,
      "outputs": []
    },
    {
      "cell_type": "code",
      "source": [
        "fig, axes = plt.subplots(2,2, figsize=(4,4))\n",
        "axes = axes.flatten()\n",
        "idx = np.random.randint(0,42000,size=4)\n",
        "for i in range(4):\n",
        "    axes[i].imshow(X_train[idx[i],:].reshape(28,28), cmap='gray')\n",
        "    axes[i].axis('off') # hide the axes ticks\n",
        "    axes[i].set_title(str(int(y_train[idx[i]])), color= 'black', fontsize=25)\n",
        "plt.show()"
      ],
      "metadata": {
        "id": "OvJS0dOFhdLg",
        "colab": {
          "base_uri": "https://localhost:8080/",
          "height": 380
        },
        "outputId": "feded16f-dd07-4b20-db07-2cb1c505bcae"
      },
      "execution_count": 7,
      "outputs": [
        {
          "output_type": "display_data",
          "data": {
            "text/plain": [
              "<Figure size 400x400 with 4 Axes>"
            ],
            "image/png": "[encoded data removed]"
          },
          "metadata": {}
        }
      ]
    },
    {
      "cell_type": "code",
      "source": [
        "# relu activation function\n",
        "# THE fastest vectorized implementation for ReLU\n",
        "def relu(x):\n",
        "    x[x<0]=0\n",
        "    return x"
      ],
      "metadata": {
        "id": "MpoI4b31izrS"
      },
      "execution_count": 8,
      "outputs": []
    },
    {
      "cell_type": "code",
      "source": [
        "def h(X,W,b):\n",
        "    '''\n",
        "    Hypothesis function: simple FNN with 1 hidden layer\n",
        "    Layer 1: input\n",
        "    Layer 2: hidden layer, with a size implied by the arguments W[0], b\n",
        "    Layer 3: output layer, with a size implied by the arguments W[1]\n",
        "    '''\n",
        "    # layer 1 = input layer\n",
        "    a1 = X\n",
        "    # layer 1 (input layer) -> layer 2 (hidden layer)\n",
        "    z1 = np.matmul(X, W[0]) + b[0]\n",
        "\n",
        "    # add one more layer if applicable\n",
        "\n",
        "    # layer 2 activation\n",
        "    a2 = relu(z1)\n",
        "    # layer 2 (hidden layer) -> layer 3 (output layer)\n",
        "    z2 = np.matmul(a2, W[1])\n",
        "    s = np.exp(z2)\n",
        "    total = np.sum(s, axis=1).reshape(-1,1)\n",
        "    sigma = s/total\n",
        "    # the output is a probability for each sample\n",
        "    return sigma"
      ],
      "metadata": {
        "id": "4hlRUDPZoUMb"
      },
      "execution_count": 9,
      "outputs": []
    },
    {
      "cell_type": "code",
      "source": [
        "def softmax(X_in,weights):\n",
        "    '''\n",
        "    Un-used cell for demo\n",
        "    activation function for the last FC layer: softmax function\n",
        "    Output: K probabilities represent an estimate of P(y=k|X_in;weights) for k=1,...,K\n",
        "    the weights has shape (n, K)\n",
        "    n: the number of features X_in has\n",
        "    n = X_in.shape[1]\n",
        "    K: the number of classes\n",
        "    K = 10\n",
        "    '''\n",
        "\n",
        "    s = np.exp(np.matmul(X_in,weights))\n",
        "    total = np.sum(s, axis=1).reshape(-1,1)\n",
        "    return s / total"
      ],
      "metadata": {
        "id": "bJoCLBeXsdZk"
      },
      "execution_count": 10,
      "outputs": []
    },
    {
      "cell_type": "code",
      "source": [
        "def loss(y_pred,y_true):\n",
        "    '''\n",
        "    Loss function: cross entropy with an L^2 regularization\n",
        "    y_true: ground truth, of shape (N, )\n",
        "    y_pred: prediction made by the model, of shape (N, K)\n",
        "    N: number of samples in the batch\n",
        "    K: global variable, number of classes\n",
        "    '''\n",
        "    global K\n",
        "    K = 10\n",
        "    N = len(y_true)\n",
        "    # loss_sample stores the cross entropy for each sample in X\n",
        "    # convert y_true from labels to one-hot-vector encoding\n",
        "    y_true_one_hot_vec = (y_true[:,np.newaxis] == np.arange(K))\n",
        "    loss_sample = (np.log(y_pred) * y_true_one_hot_vec).sum(axis=1)\n",
        "    # loss_sample is a dimension (N,) array\n",
        "    # for the final loss, we need take the average\n",
        "    return -np.mean(loss_sample)"
      ],
      "metadata": {
        "id": "nrSN0x_lwQvm"
      },
      "execution_count": 11,
      "outputs": []
    },
    {
      "cell_type": "code",
      "source": [
        "def backprop(W,b,X,y,alpha=1e-4):\n",
        "    '''\n",
        "    Step 1: explicit forward pass h(X;W,b)\n",
        "    Step 2: backpropagation for dW and db\n",
        "    '''\n",
        "    K = 10\n",
        "    N = X.shape[0]\n",
        "\n",
        "    ### Step 1:\n",
        "    # layer 1 = input layer\n",
        "    a1 = X\n",
        "    # layer 1 (input layer) -> layer 2 (hidden layer)\n",
        "    z1 = np.matmul(X, W[0]) + b[0]\n",
        "    # layer 2 activation\n",
        "    a2 = relu(z1)\n",
        "\n",
        "    # one more layer\n",
        "\n",
        "    # layer 2 (hidden layer) -> layer 3 (output layer)\n",
        "    z2 = np.matmul(a2, W[1])\n",
        "    s = np.exp(z2)\n",
        "    total = np.sum(s, axis=1).reshape(-1,1)\n",
        "    sigma = s/total\n",
        "\n",
        "    ### Step 2:\n",
        "\n",
        "    # layer 2->layer 3 weights' derivative\n",
        "    # delta2 is \\partial L/partial z2, of shape (N,K)\n",
        "    y_one_hot_vec = (y[:,np.newaxis] == np.arange(K))\n",
        "    delta2 = (sigma - y_one_hot_vec)\n",
        "    grad_W1 = np.matmul(a2.T, delta2)\n",
        "\n",
        "    # layer 1->layer 2 weights' derivative\n",
        "    # delta1 is \\partial a2/partial z1\n",
        "    # layer 2 activation's (weak) derivative is 1*(z1>0)\n",
        "    delta1 = np.matmul(delta2, W[1].T)*(z1>0)\n",
        "    grad_W0 = np.matmul(X.T, delta1)\n",
        "\n",
        "    # Possible student project: extra layer of derivative\n",
        "\n",
        "    # no derivative for layer 1\n",
        "\n",
        "    # the alpha part is the derivative for the regularization\n",
        "    # regularization = 0.5*alpha*(np.sum(W[1]**2) + np.sum(W[0]**2))\n",
        "\n",
        "\n",
        "    dW = [grad_W0/N + alpha*W[0], grad_W1/N + alpha*W[1]]\n",
        "    db = [np.mean(delta1, axis=0)]\n",
        "    # dW[0] is W[0]'s derivative, and dW[1] is W[1]'s derivative; similar for db\n",
        "    return dW, db"
      ],
      "metadata": {
        "id": "Htn8E59VuZiI"
      },
      "execution_count": 12,
      "outputs": []
    },
    {
      "cell_type": "markdown",
      "source": [
        "Hyper-parameters and network initialization"
      ],
      "metadata": {
        "id": "uXZg283sHVvt"
      }
    },
    {
      "cell_type": "code",
      "source": [
        "eta = 5e-1\n",
        "alpha = 1e-6 # regularization\n",
        "gamma = 0.99 # RMSprop\n",
        "eps = 1e-3 # RMSprop\n",
        "num_iter = 1000 # number of iterations of gradient descent\n",
        "n_H = 256 # number of neurons in the hidden layer\n",
        "n = X_train.shape[1] # number of pixels in an image\n",
        "K = 10"
      ],
      "metadata": {
        "id": "Bf-yiEG_Hycl"
      },
      "execution_count": 13,
      "outputs": []
    },
    {
      "cell_type": "code",
      "source": [
        "# initialization\n",
        "np.random.seed(1127825)\n",
        "W = [1e-1*np.random.randn(n, n_H), 1e-1*np.random.randn(n_H, K)]\n",
        "b = [np.random.randn(n_H)]\n"
      ],
      "metadata": {
        "id": "bht8kcgXIBED"
      },
      "execution_count": 14,
      "outputs": []
    },
    {
      "cell_type": "code",
      "source": [
        "%%time\n",
        "gW0 = gW1 = gb0 = 1\n",
        "\n",
        "for i in range(num_iter):\n",
        "    dW, db = backprop(W,b,X_train,y_train,alpha)\n",
        "\n",
        "    gW0 = gamma*gW0 + (1-gamma)*np.sum(dW[0]**2)\n",
        "    etaW0 = eta/np.sqrt(gW0 + eps)\n",
        "    W[0] -= etaW0 * dW[0]\n",
        "\n",
        "    gW1 = gamma*gW1 + (1-gamma)*np.sum(dW[1]**2)\n",
        "    etaW1 = eta/np.sqrt(gW1 + eps)\n",
        "    W[1] -= etaW1 * dW[1]\n",
        "\n",
        "    gb0 = gamma*gb0 + (1-gamma)*np.sum(db[0]**2)\n",
        "    etab0 = eta/np.sqrt(gb0 + eps)\n",
        "    b[0] -= etab0 * db[0]\n",
        "\n",
        "    if i % 500 == 0:\n",
        "        # sanity check 1\n",
        "        y_pred = h(X_train,W,b)\n",
        "        print(\"Cross-entropy loss after\", i+1, \"iterations is {:.8}\".format(\n",
        "              loss(y_pred,y_train)))\n",
        "        print(\"Training accuracy after\", i+1, \"iterations is {:.4%}\".format(\n",
        "              np.mean(np.argmax(y_pred, axis=1)== y_train)))\n",
        "\n",
        "        # sanity check 2\n",
        "        print(\"gW0={:.4f} gW1={:.4f} gb0={:.4f}\\netaW0={:.4f} etaW1={:.4f} etab0={:.4f}\"\n",
        "              .format(gW0, gW1, gb0, etaW0, etaW1, etab0))\n",
        "\n",
        "        # sanity check 3\n",
        "        print(\"|dW0|={:.5f} |dW1|={:.5f} |db0|={:.5f}\"\n",
        "             .format(np.linalg.norm(dW[0]), np.linalg.norm(dW[1]), np.linalg.norm(db[0])), \"\\n\")\n",
        "\n",
        "        # reset RMSprop\n",
        "        gW0 = gW1 = gb0 = 1\n",
        "\n",
        "y_pred_final = h(X_train,W,b)\n",
        "print(\"Final cross-entropy loss is {:.8}\".format(loss(y_pred_final,y_train)))\n",
        "print(\"Final training accuracy is {:.4%}\".format(np.mean(np.argmax(y_pred_final, axis=1)== y_train)))"
      ],
      "metadata": {
        "id": "fm72i6kLICJh",
        "colab": {
          "base_uri": "https://localhost:8080/",
          "height": 350
        },
        "outputId": "bc58f044-3fca-41d6-b6fb-426da50556aa"
      },
      "execution_count": 15,
      "outputs": [
        {
          "output_type": "stream",
          "name": "stdout",
          "text": [
            "Cross-entropy loss after 1 iterations is 7.6743264\n",
            "Training accuracy after 1 iterations is 24.9262%\n",
            "gW0=1.0839 gW1=1.3825 gb0=0.9923\n",
            "etaW0=0.4800 etaW1=0.4251 etab0=0.5017\n",
            "|dW0|=3.06418 |dW1|=6.26530 |db0|=0.48001 \n",
            "\n"
          ]
        },
        {
          "output_type": "error",
          "ename": "KeyboardInterrupt",
          "evalue": "",
          "traceback": [
            "\u001b[0;31m---------------------------------------------------------------------------\u001b[0m",
            "\u001b[0;31mKeyboardInterrupt\u001b[0m                         Traceback (most recent call last)",
            "\u001b[0;32m<timed exec>\u001b[0m in \u001b[0;36m<module>\u001b[0;34m\u001b[0m\n",
            "\u001b[0;32m<ipython-input-12-19f4df73aef6>\u001b[0m in \u001b[0;36mbackprop\u001b[0;34m(W, b, X, y, alpha)\u001b[0m\n\u001b[1;32m     11\u001b[0m     \u001b[0ma1\u001b[0m \u001b[0;34m=\u001b[0m \u001b[0mX\u001b[0m\u001b[0;34m\u001b[0m\u001b[0;34m\u001b[0m\u001b[0m\n\u001b[1;32m     12\u001b[0m     \u001b[0;31m# layer 1 (input layer) -> layer 2 (hidden layer)\u001b[0m\u001b[0;34m\u001b[0m\u001b[0;34m\u001b[0m\u001b[0m\n\u001b[0;32m---> 13\u001b[0;31m     \u001b[0mz1\u001b[0m \u001b[0;34m=\u001b[0m \u001b[0mnp\u001b[0m\u001b[0;34m.\u001b[0m\u001b[0mmatmul\u001b[0m\u001b[0;34m(\u001b[0m\u001b[0mX\u001b[0m\u001b[0;34m,\u001b[0m \u001b[0mW\u001b[0m\u001b[0;34m[\u001b[0m\u001b[0;36m0\u001b[0m\u001b[0;34m]\u001b[0m\u001b[0;34m)\u001b[0m \u001b[0;34m+\u001b[0m \u001b[0mb\u001b[0m\u001b[0;34m[\u001b[0m\u001b[0;36m0\u001b[0m\u001b[0;34m]\u001b[0m\u001b[0;34m\u001b[0m\u001b[0;34m\u001b[0m\u001b[0m\n\u001b[0m\u001b[1;32m     14\u001b[0m     \u001b[0;31m# layer 2 activation\u001b[0m\u001b[0;34m\u001b[0m\u001b[0;34m\u001b[0m\u001b[0m\n\u001b[1;32m     15\u001b[0m     \u001b[0ma2\u001b[0m \u001b[0;34m=\u001b[0m \u001b[0mrelu\u001b[0m\u001b[0;34m(\u001b[0m\u001b[0mz1\u001b[0m\u001b[0;34m)\u001b[0m\u001b[0;34m\u001b[0m\u001b[0;34m\u001b[0m\u001b[0m\n",
            "\u001b[0;31mKeyboardInterrupt\u001b[0m: "
          ]
        }
      ]
    },
    {
      "cell_type": "code",
      "source": [
        "# predictions\n",
        "y_pred_test = np.argmax(h(X_test,W,b), axis=1)"
      ],
      "metadata": {
        "id": "ThH3Vke8PYLe"
      },
      "execution_count": 16,
      "outputs": []
    },
    {
      "cell_type": "code",
      "source": [
        "# Generating submission using pandas for grading\n",
        "submission = pd.DataFrame({'ImageId': range(1,len(X_test)+1) ,'Label': y_pred_test })\n",
        "submission.to_csv(\"simplemnist_result.csv\",index=False)"
      ],
      "metadata": {
        "id": "jnv1zRfxPa3S"
      },
      "execution_count": 17,
      "outputs": []
    }
  ]
}