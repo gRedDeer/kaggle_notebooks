{
  "cells": [
    {
      "cell_type": "markdown",
      "metadata": {
        "id": "view-in-github",
        "colab_type": "text"
      },
      "source": [
        "<a href=\"https://colab.research.google.com/github/gRedDeer/kaggle_notebooks/blob/main/PS4E10_submission_real.ipynb\" target=\"_parent\"><img src=\"https://colab.research.google.com/assets/colab-badge.svg\" alt=\"Open In Colab\"/></a>"
      ]
    },
    {
      "cell_type": "code",
      "execution_count": 1,
      "metadata": {
        "colab": {
          "base_uri": "https://localhost:8080/"
        },
        "id": "WsWboGxeWoJZ",
        "outputId": "95237154-9eb1-44a7-e139-83c01a860cd0"
      },
      "outputs": [
        {
          "output_type": "stream",
          "name": "stdout",
          "text": [
            "Mounted at /content/drive\n",
            "/content/drive/MyDrive/Kaggle\n"
          ]
        }
      ],
      "source": [
        "from google.colab import drive\n",
        "drive.mount('/content/drive')\n",
        "\n",
        "%cd /content/drive/MyDrive/Kaggle\n",
        "import os\n",
        "os.environ['KAGGLE_CONFIG_DIR'] = \"/content/drive/MyDrive/Kaggle\""
      ]
    },
    {
      "cell_type": "code",
      "execution_count": 2,
      "metadata": {
        "colab": {
          "base_uri": "https://localhost:8080/"
        },
        "id": "yZYUUHIz9EQs",
        "outputId": "20bb5fb6-527f-4805-85f1-2ea623bc51c8"
      },
      "outputs": [
        {
          "output_type": "stream",
          "name": "stdout",
          "text": [
            "Drive already mounted at /content/drive; to attempt to forcibly remount, call drive.mount(\"/content/drive\", force_remount=True).\n"
          ]
        }
      ],
      "source": [
        "from google.colab import drive\n",
        "drive.mount('/content/drive')"
      ]
    },
    {
      "cell_type": "code",
      "execution_count": null,
      "metadata": {
        "collapsed": true,
        "id": "LfhuRunsZkfK"
      },
      "outputs": [],
      "source": [
        "!pip install catboost\n",
        "!pip install xgboost\n",
        "!pip install lightgbm"
      ]
    },
    {
      "cell_type": "code",
      "execution_count": null,
      "metadata": {
        "collapsed": true,
        "id": "CS0Ue91-jjZo"
      },
      "outputs": [],
      "source": [
        "import numpy as np\n",
        "import pandas as pd\n",
        "import matplotlib.pyplot as plt\n",
        "import seaborn as sns\n",
        "from sklearn.model_selection import StratifiedKFold\n",
        "from sklearn.metrics import roc_auc_score\n",
        "from sklearn.base import clone\n",
        "from sklearn.pipeline import Pipeline\n",
        "import gc\n",
        "import xgboost as xgb\n",
        "from xgboost import XGBClassifier,XGBRFClassifier, DMatrix, plot_importance as xgb_plot_importance\n",
        "from catboost import CatBoostClassifier, Pool\n",
        "from lightgbm import LGBMClassifier, plot_importance\n",
        "from lightgbm.callback import early_stopping\n",
        "import warnings\n",
        "\n",
        "warnings.filterwarnings('ignore')\n",
        "\n",
        "from sklearn.preprocessing import OrdinalEncoder\n",
        "from sklearn.ensemble import HistGradientBoostingClassifier\n",
        "from sklearn.linear_model import Ridge\n"
      ]
    },
    {
      "cell_type": "code",
      "execution_count": null,
      "metadata": {
        "id": "rFOr9wH-kVMr"
      },
      "outputs": [],
      "source": [
        "train_df = pd.read_csv('/content/drive/MyDrive/Kaggle/Loan Approval Prediction/train.csv', index_col='id')\n",
        "test_df = pd.read_csv('/content/drive/MyDrive/Kaggle/Loan Approval Prediction/train.csv', index_col='id')\n",
        "orig_df = pd.read_csv('/content/drive/MyDrive/Kaggle/Loan Approval Prediction/credit_risk_dataset.csv')"
      ]
    },
    {
      "cell_type": "code",
      "execution_count": null,
      "metadata": {
        "id": "fS-fcfo_lAS-"
      },
      "outputs": [],
      "source": [
        "orig_df.index\n",
        "train_df = pd.concat([train_df, orig_df])\n",
        "train_df = train_df.reset_index(drop=True)\n",
        "train_df.head()"
      ]
    },
    {
      "cell_type": "code",
      "execution_count": null,
      "metadata": {
        "id": "H2XG0WNrlks6"
      },
      "outputs": [],
      "source": [
        "train_df.info()"
      ]
    },
    {
      "cell_type": "code",
      "execution_count": null,
      "metadata": {
        "id": "YPLYaB-Yl2ek"
      },
      "outputs": [],
      "source": [
        "train_df.isna().sum()"
      ]
    },
    {
      "cell_type": "markdown",
      "metadata": {
        "id": "cDQk9s9HWEtO"
      },
      "source": [
        "# **EDA & Feature Engineering**\n",
        "\n",
        "&nbsp;"
      ]
    },
    {
      "cell_type": "code",
      "execution_count": null,
      "metadata": {
        "id": "3x_mVZthnNGV"
      },
      "outputs": [],
      "source": [
        "#fixing nan values with means\n",
        "train_df['loan_int_rate'] = train_df['loan_int_rate'].fillna(train_df['loan_int_rate'].mean())\n",
        "train_df['person_emp_length'] = train_df['person_emp_length'].fillna(train_df['person_emp_length'].mean())"
      ]
    },
    {
      "cell_type": "code",
      "execution_count": null,
      "metadata": {
        "id": "1fGqJPjzkT4e"
      },
      "outputs": [],
      "source": [
        "#adding some new features\n",
        "for df in [train_df, test_df]:\n",
        "  df['partial_net_worth'] = df['person_income'] * df['person_emp_length']\n",
        "  df['monthly_debt'] = (df['loan_amnt'] * (1 + df['loan_int_rate'].astype(float)) / 12)"
      ]
    },
    {
      "cell_type": "code",
      "execution_count": null,
      "metadata": {
        "id": "Loaliepmmnfs"
      },
      "outputs": [],
      "source": [
        "#extracting targets to plot features\n",
        "target = train_df['loan_status']\n",
        "features = train_df.drop('loan_status', axis=1).columns.tolist()"
      ]
    },
    {
      "cell_type": "code",
      "execution_count": null,
      "metadata": {
        "id": "oYQJ8c7nnBRC"
      },
      "outputs": [],
      "source": [
        "#listing numerical & categorical features\n",
        "cat_features = train_df.select_dtypes(include='object').columns.tolist()\n",
        "num_features = list(set(features) - set(cat_features))"
      ]
    },
    {
      "cell_type": "code",
      "execution_count": null,
      "metadata": {
        "id": "fZRVa1UvnuO7"
      },
      "outputs": [],
      "source": [
        "#quick data view\n",
        "train_df.describe(include='all').T.sort_values(by='unique')"
      ]
    },
    {
      "cell_type": "code",
      "execution_count": null,
      "metadata": {
        "id": "Tx0nMtpooBXW"
      },
      "outputs": [],
      "source": [
        "for col in cat_features:\n",
        "    display(train_df.groupby(col)[['loan_amnt', 'loan_int_rate']].agg(['min', 'mean', 'max']))"
      ]
    },
    {
      "cell_type": "code",
      "execution_count": null,
      "metadata": {
        "id": "lP230uYhpdZ3"
      },
      "outputs": [],
      "source": [
        "plt.figure(figsize=(16, 12))\n",
        "for i,col in enumerate(num_features):\n",
        "\n",
        "  plt.subplot(4,3,i+1)\n",
        "\n",
        "  sns.histplot(train_df, x=col, hue=target)\n",
        "\n",
        "plt.tight_layout()\n",
        "plt.show()"
      ]
    },
    {
      "cell_type": "code",
      "execution_count": null,
      "metadata": {
        "id": "Ymormx5BasGR"
      },
      "outputs": [],
      "source": [
        "plt.figure(figsize=(16, 12))\n",
        "for i,col in enumerate(cat_features):\n",
        "  plt.subplot(2,2,i+1)\n",
        "  sns.countplot(train_df, x=col, hue=target)\n",
        "\n",
        "plt.tight_layout()\n",
        "plt.show()"
      ]
    },
    {
      "cell_type": "code",
      "execution_count": null,
      "metadata": {
        "id": "A0RYtvsWeXTg"
      },
      "outputs": [],
      "source": [
        "sns.countplot(train_df, x=target, hue=target)\n",
        "plt.show()"
      ]
    },
    {
      "cell_type": "code",
      "execution_count": null,
      "metadata": {
        "id": "fD6iJvrSewgC"
      },
      "outputs": [],
      "source": [
        "train_new = train_df.copy()\n",
        "\n",
        "for col in cat_features:\n",
        "    train_new[col], _ = train_new[col].factorize()\n",
        "\n",
        "cor_mat = train_new.corr()\n",
        "mask = np.triu(cor_mat)\n",
        "\n",
        "plt.figure(figsize=(10, 8))\n",
        "sns.heatmap(cor_mat, fmt='.2f', annot=True, mask=mask, cmap='coolwarm')\n",
        "plt.tight_layout()\n",
        "plt.show()"
      ]
    },
    {
      "cell_type": "code",
      "execution_count": null,
      "metadata": {
        "id": "NSqpKClchpCF"
      },
      "outputs": [],
      "source": [
        "# cv intialize\n",
        "skfold = StratifiedKFold(n_splits=10, shuffle=True, random_state=42)"
      ]
    },
    {
      "cell_type": "code",
      "execution_count": null,
      "metadata": {
        "id": "dHpTs8_yWEtS"
      },
      "outputs": [],
      "source": [
        "# another function\n",
        "def convert_to_string(df):\n",
        "    df_cat = df.copy()\n",
        "    df_cat = df_cat.fillna(0)\n",
        "    for col in features:\n",
        "        df_cat[col] = df_cat[col].astype('string')\n",
        "    return df_cat"
      ]
    },
    {
      "cell_type": "code",
      "execution_count": null,
      "metadata": {
        "id": "FO3pb3TKlgyz"
      },
      "outputs": [],
      "source": [
        "# Defining our X and y\n",
        "X = train_df.drop('loan_status', axis=1)\n",
        "y = target.ravel()"
      ]
    },
    {
      "cell_type": "code",
      "execution_count": null,
      "metadata": {
        "id": "4SjJW28meKM6"
      },
      "outputs": [],
      "source": [
        "# intitating our train/test dicts\n",
        "train_preds = {}\n",
        "test_preds = {}\n",
        "auc_mean_scores = {}"
      ]
    },
    {
      "cell_type": "code",
      "execution_count": null,
      "metadata": {
        "colab": {
          "background_save": true
        },
        "id": "yQDfZYGDoymA"
      },
      "outputs": [],
      "source": [
        "# CATB predictor - using GPU however catboot is still not fully optimised for GPUs so AUCs will still run on CPU\n",
        "\n",
        "# Variables to store out-of-fold (OOF) predictions and feature importances\n",
        "import torch\n",
        "oof_preds = []\n",
        "oof_aucs = []\n",
        "oof_train_preds = np.zeros(len(y))\n",
        "\n",
        "feature_importance_df = pd.DataFrame()  # DataFrame to store feature importances\n",
        "\n",
        "cat_params = {\n",
        "    'task_type': \"GPU\" if torch.cuda.is_available() else \"CPU\",\n",
        "    #'devices': 0,\n",
        "    'loss_function': 'Logloss',\n",
        "    'eval_metric': \"AUC\",\n",
        "    'bagging_temperature': 0.25,\n",
        "    'iterations': 10000,\n",
        "    'learning_rate': 0.045,\n",
        "    'max_depth': 7,\n",
        "    'l2_leaf_reg': 0.80,\n",
        "    'min_data_in_leaf': 30,\n",
        "    'random_strength': 0.25,\n",
        "    'random_state': 42,\n",
        "    'early_stopping_rounds': 200,\n",
        "    'use_best_model': True,\n",
        "    'allow_writing_files': False,\n",
        "}\n",
        "\n",
        "X_cat = convert_to_string(X)\n",
        "test_cat = convert_to_string(test_df)\n",
        "\n",
        "test_pool = Pool(test_cat, cat_features=features)\n",
        "\n",
        "# Initialize to store one model for feature importance\n",
        "best_cat_clf = None\n",
        "\n",
        "for fold, (train_idx, test_idx) in enumerate(skfold.split(X_cat, y)):\n",
        "    X_train, y_train = X_cat.iloc[train_idx], y[train_idx]\n",
        "    X_test, y_test = X_cat.iloc[test_idx], y[test_idx]\n",
        "\n",
        "    X_train_pool = Pool(X_train, y_train, cat_features=features)\n",
        "    X_test_pool = Pool(X_test, y_test, cat_features=features)\n",
        "\n",
        "    cat_clf = CatBoostClassifier(**cat_params)\n",
        "    cat_clf = cat_clf.fit(X=X_train_pool, eval_set=X_test_pool, verbose=0, early_stopping_rounds=200)\n",
        "\n",
        "\n",
        "    # Out-of-fold predictions\n",
        "    oof_train_preds[test_idx] = cat_clf.predict_proba(Pool(X_test, cat_features=features))[:, 1]\n",
        "    test_pred = cat_clf.predict_proba(test_pool)[:, 1]\n",
        "\n",
        "    # Save feature importance for this fold\n",
        "    fold_importance = cat_clf.get_feature_importance(Pool(X_test, cat_features=features))\n",
        "\n",
        "    # Store fold importances in a DataFrame\n",
        "    fold_importance_df = pd.DataFrame({\n",
        "        'feature': features,\n",
        "        f'importance_fold_{fold + 1}': fold_importance\n",
        "    })\n",
        "\n",
        "    # If it's the first fold, keep both 'feature' and importance\n",
        "    if fold == 0:\n",
        "        feature_importance_df = fold_importance_df\n",
        "    else:\n",
        "        # Concatenate only the importance columns for subsequent folds\n",
        "        feature_importance_df = pd.concat([feature_importance_df, fold_importance_df[f'importance_fold_{fold + 1}']], axis=1)\n",
        "\n",
        "    oof_preds.append(test_pred)\n",
        "    auc = cat_clf.best_score_['validation']['AUC']\n",
        "    oof_aucs.append(auc)\n",
        "    print(f\"\\nFold {fold+1} --> ROC-AUC Score: {auc:.6f}\\n\")\n",
        "\n",
        "    # Save the best model for feature importance\n",
        "    if best_cat_clf is None or auc > max(oof_aucs):\n",
        "        best_cat_clf = cat_clf\n",
        "\n",
        "    del X_train, y_train, X_test, y_test\n",
        "    del X_train_pool, X_test_pool\n",
        "    del cat_clf\n",
        "    gc.collect()\n",
        "\n",
        "# Calculate the mean feature importance across folds\n",
        "importance_cols = [col for col in feature_importance_df.columns if 'importance_fold' in col]\n",
        "feature_importance_df['mean_importance'] = feature_importance_df[importance_cols].mean(axis=1)\n",
        "\n",
        "# Select the top 10 features by mean importance\n",
        "top_features = feature_importance_df.nlargest(6, 'mean_importance')\n",
        "\n",
        "# Plot the top 10 important features\n",
        "plt.figure(figsize=(5, 3))\n",
        "sns.barplot(x='mean_importance', y='feature', data=top_features)\n",
        "plt.title('Top 6 Feature Importance (CatBoost)')\n",
        "plt.xlabel('Mean Importance')\n",
        "plt.ylabel('Feature')\n",
        "plt.show()\n",
        "\n",
        "# Average and standard deviation of AUCs\n",
        "auc_mean = np.mean(oof_aucs)\n",
        "auc_mean_scores['cat'] = auc_mean\n",
        "auc_std = np.std(oof_aucs)\n",
        "print(f\"\\nAverage Fold ROC-AUC Score: {auc_mean:.6f} ± {auc_std:.6f}\\n\")\n",
        "\n",
        "train_preds['cat'] = oof_train_preds\n",
        "test_pred_cat = np.mean(oof_preds, axis=0)\n",
        "test_preds['cat'] = test_pred_cat"
      ]
    },
    {
      "cell_type": "code",
      "execution_count": null,
      "metadata": {
        "id": "OZrdDfOUWEtT"
      },
      "outputs": [],
      "source": [
        "test_preds_df = pd.DataFrame(test_preds)\n",
        "train_preds_df = pd.DataFrame(train_preds)"
      ]
    },
    {
      "cell_type": "code",
      "execution_count": null,
      "metadata": {
        "id": "PNO-ry0BWEtT"
      },
      "outputs": [],
      "source": [
        "sub = pd.read_csv('/content/drive/MyDrive/Kaggle/Loan Approval Prediction/sample_submission.csv')\n",
        "sub['loan_status'] = test_preds_df['cat']\n",
        "csv_str = '/content/drive/MyDrive/Kaggle/Loan Approval Prediction/submission'+(auc_mean_scores['cat']*1000000).astype(int).astype(str)+'.csv'\n",
        "sub.to_csv(csv_str, index=False)"
      ]
    },
    {
      "cell_type": "code",
      "execution_count": null,
      "metadata": {
        "id": "cvCtJKNJfDXQ"
      },
      "outputs": [],
      "source": [
        "csv_str"
      ]
    },
    {
      "cell_type": "code",
      "execution_count": null,
      "metadata": {
        "id": "m2VJgc0gcCpN"
      },
      "outputs": [],
      "source": [
        "!kaggle competitions submit -c playground-series-s4e10 -f '/content/drive/MyDrive/Kaggle/Loan Approval Prediction/submission967769.csv' -m \"colab_2\""
      ]
    }
  ],
  "metadata": {
    "accelerator": "GPU",
    "colab": {
      "gpuType": "T4",
      "provenance": [],
      "include_colab_link": true
    },
    "kaggle": {
      "accelerator": "nvidiaTeslaT4",
      "dataSources": [
        {
          "databundleVersionId": 9709193,
          "sourceId": 84894,
          "sourceType": "competition"
        },
        {
          "datasetId": 4675026,
          "sourceId": 7949759,
          "sourceType": "datasetVersion"
        }
      ],
      "dockerImageVersionId": 30787,
      "isGpuEnabled": true,
      "isInternetEnabled": true,
      "language": "python",
      "sourceType": "notebook"
    },
    "kernelspec": {
      "display_name": "Python 3",
      "name": "python3"
    },
    "language_info": {
      "codemirror_mode": {
        "name": "ipython",
        "version": 3
      },
      "file_extension": ".py",
      "mimetype": "text/x-python",
      "name": "python",
      "nbconvert_exporter": "python",
      "pygments_lexer": "ipython3",
      "version": "3.10.14"
    }
  },
  "nbformat": 4,
  "nbformat_minor": 0
}